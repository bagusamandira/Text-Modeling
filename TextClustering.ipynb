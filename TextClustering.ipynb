{
  "nbformat": 4,
  "nbformat_minor": 0,
  "metadata": {
    "colab": {
      "provenance": [],
      "machine_shape": "hm",
      "gpuType": "L4",
      "authorship_tag": "ABX9TyN/8UFqQgm42NDmDWj/t6Po",
      "include_colab_link": true
    },
    "kernelspec": {
      "name": "python3",
      "display_name": "Python 3"
    },
    "language_info": {
      "name": "python"
    },
    "accelerator": "GPU"
  },
  "cells": [
    {
      "cell_type": "markdown",
      "metadata": {
        "id": "view-in-github",
        "colab_type": "text"
      },
      "source": [
        "<a href=\"https://colab.research.google.com/github/bagusamandira/Text-Modeling/blob/main/TextClustering.ipynb\" target=\"_parent\"><img src=\"https://colab.research.google.com/assets/colab-badge.svg\" alt=\"Open In Colab\"/></a>"
      ]
    },
    {
      "cell_type": "markdown",
      "source": [
        "# 2. [LO1, LO2, LO3]\n",
        "Di tahun 2023 terjadi kasus BSI yang mengalami serangan Ransomware, sehingga menggangu fungsi Bank ini secara nasional. Pengguna twitter (X) banyak mengunggah tweet memberikan respon terhadap kasus ini. Penasaran dengan apa saja yang dibicarakan user mengenai kasus ini di twitter (X), anda diminta melakukan pemodelan terhadap data kumpulan tweet pengguna dengan detail sebagai berikut:"
      ],
      "metadata": {
        "id": "mOxIr33AYFkt"
      }
    },
    {
      "cell_type": "code",
      "source": [
        "import pandas as pd\n",
        "import numpy as np\n",
        "import string\n",
        "import zipfile\n",
        "import os\n",
        "import matplotlib.pyplot as plt\n",
        "import nltk\n",
        "from wordcloud import WordCloud\n",
        "from nltk.corpus import stopwords, words\n",
        "from nltk.tokenize import WordPunctTokenizer, word_tokenize\n",
        "from string import punctuation\n",
        "from nltk.stem import WordNetLemmatizer, PorterStemmer\n",
        "from sklearn.feature_extraction.text import TfidfVectorizer, CountVectorizer\n",
        "from gensim.models import Word2Vec\n",
        "from sklearn.svm import SVC\n",
        "from sklearn.ensemble import RandomForestClassifier\n",
        "from sklearn.model_selection import train_test_split, GridSearchCV\n",
        "from sklearn.metrics import classification_report, silhouette_score\n",
        "from google.colab import files\n",
        "import regex\n",
        "from sklearn.cluster import KMeans\n",
        "from sklearn.manifold import TSNE\n",
        "from collections import Counter\n",
        "from sklearn.decomposition import LatentDirichletAllocation\n",
        "import re\n",
        "nltk.download('stopwords')\n",
        "nltk.download('punkt')\n",
        "nltk.download('wordnet')\n"
      ],
      "metadata": {
        "colab": {
          "base_uri": "https://localhost:8080/"
        },
        "id": "ow2Qr_hafRn7",
        "outputId": "8bbaae39-1932-4a1b-d66d-681511e80704"
      },
      "execution_count": null,
      "outputs": [
        {
          "output_type": "stream",
          "name": "stderr",
          "text": [
            "[nltk_data] Downloading package stopwords to /root/nltk_data...\n",
            "[nltk_data]   Package stopwords is already up-to-date!\n",
            "[nltk_data] Downloading package punkt to /root/nltk_data...\n",
            "[nltk_data]   Package punkt is already up-to-date!\n",
            "[nltk_data] Downloading package wordnet to /root/nltk_data...\n",
            "[nltk_data]   Package wordnet is already up-to-date!\n"
          ]
        },
        {
          "output_type": "execute_result",
          "data": {
            "text/plain": [
              "True"
            ]
          },
          "metadata": {},
          "execution_count": 47
        }
      ]
    },
    {
      "cell_type": "markdown",
      "source": [
        "## a.\n",
        "[15%] Lakukan pengelompokan dengan menggunakan pendekatan clustering, silahkan ujicoba beberapa nilai cluster (k) yang mungkin anda peroleh dari data tersebut, berikan perbandingan silhoutte score sebagai justifikasi jumlah cluster (k) yang akan anda pilih."
      ],
      "metadata": {
        "id": "cO53Qy_WYMw2"
      }
    },
    {
      "cell_type": "code",
      "execution_count": null,
      "metadata": {
        "id": "QFCnvhViYB_9",
        "colab": {
          "base_uri": "https://localhost:8080/",
          "height": 829
        },
        "outputId": "12bb5a30-19a4-4397-d2c9-7a24b2f9f327"
      },
      "outputs": [
        {
          "output_type": "execute_result",
          "data": {
            "text/plain": [
              "      Unnamed: 0  index                                                URL  \\\n",
              "0              0   6881  https://twitter.com/koesmanagalang/status/1657...   \n",
              "1              1   9209  https://twitter.com/muhammad_dlya/status/16572...   \n",
              "2              2  13665  https://twitter.com/NuriSeptiyani/status/16566...   \n",
              "3              3  17281  https://twitter.com/MasYusuf_/status/165646539...   \n",
              "4              4  12216  https://twitter.com/KepoomrR/status/1656901084...   \n",
              "...          ...    ...                                                ...   \n",
              "6095        6095  23150  https://twitter.com/RemajaKurus/status/1655921...   \n",
              "6096        6096  22972  https://twitter.com/_dinsky/status/16559316066...   \n",
              "6097        6097  21780  https://twitter.com/Gustav33429353/status/1656...   \n",
              "6098        6098  19945  https://twitter.com/TriezoElBuho/status/165625...   \n",
              "6099        6099  22608  https://twitter.com/jexso47/status/16559819223...   \n",
              "\n",
              "                           Date  \\\n",
              "0     2023-05-13 17:02:16+00:00   \n",
              "1     2023-05-13 07:14:32+00:00   \n",
              "2     2023-05-11 13:40:46+00:00   \n",
              "3     2023-05-11 01:04:59+00:00   \n",
              "4     2023-05-12 05:56:16+00:00   \n",
              "...                         ...   \n",
              "6095  2023-05-09 13:03:25+00:00   \n",
              "6096  2023-05-09 13:43:55+00:00   \n",
              "6097  2023-05-10 03:23:22+00:00   \n",
              "6098  2023-05-10 10:49:44+00:00   \n",
              "6099  2023-05-09 17:03:51+00:00   \n",
              "\n",
              "                                                  Tweet                   ID  \\\n",
              "0     @myrnn_ @secgron @bankbsi_id sistem sama orang...  1657431076921544705   \n",
              "1     @setyodiwantoro @ZakyFarid @RochmatPurwanto @b...  1657283168054181888   \n",
              "2     @Kebosananan @detikcom iya nasabah bank konven...  1656655591488761857   \n",
              "3     @bankbsi_id Gimana sih Min ini kok gak bisa la...  1656465393014419456   \n",
              "4      @ssstef_ @bankbsi_id BCA Sy bisa nih kayaknya, 😅  1656901084693278720   \n",
              "...                                                 ...                  ...   \n",
              "6095        @izthmm @bankbsi_id cek di mbankingnya kak?  1655921416846602242   \n",
              "6096  mobile banking dah kebuka tp ga bisa ngapa nga...  1655931606673264640   \n",
              "6097  @detikfinance Kalau ga siap jadi BANK mending ...  1656137826583613442   \n",
              "6098        @bankbsi_id @rahayuririnn Kagak bisa anying  1656250160664682496   \n",
              "6099  @bankbsi_id top up dana dari mobile gabisa ken...  1655981922332602369   \n",
              "\n",
              "            Username  Replies  Reetweets  Likes  Quotes       conversationId  \\\n",
              "0     koesmanagalang        1          0      0       0  1657192354829451264   \n",
              "1      muhammad_dlya        1          0      0       0  1657217322447425538   \n",
              "2      NuriSeptiyani        2          0      1       1  1656576231545131008   \n",
              "3          MasYusuf_        1          0      1       0  1655807602104872960   \n",
              "4           KepoomrR        0          0      0       0  1656869834557378560   \n",
              "...              ...      ...        ...    ...     ...                  ...   \n",
              "6095     RemajaKurus        3          0      0       0  1655807602104872960   \n",
              "6096         _dinsky        0          0      0       0  1655931606673264640   \n",
              "6097  Gustav33429353        0          0      0       0  1656113414375129088   \n",
              "6098    TriezoElBuho        0          0      0       0  1655777758180708355   \n",
              "6099         jexso47        0          0      0       0  1655807602104872960   \n",
              "\n",
              "     Language Links Media  Retweeted Tweet  Bookmarks  \n",
              "0          in   NaN   NaN              NaN          0  \n",
              "1          eu   NaN   NaN              NaN          0  \n",
              "2          in   NaN   NaN              NaN          0  \n",
              "3          in   NaN   NaN              NaN          0  \n",
              "4          in   NaN   NaN              NaN          0  \n",
              "...       ...   ...   ...              ...        ...  \n",
              "6095       in   NaN   NaN              NaN          0  \n",
              "6096       in   NaN   NaN              NaN          0  \n",
              "6097       in   NaN   NaN              NaN          0  \n",
              "6098       in   NaN   NaN              NaN          0  \n",
              "6099       in   NaN   NaN              NaN          0  \n",
              "\n",
              "[6100 rows x 17 columns]"
            ],
            "text/html": [
              "\n",
              "  <div id=\"df-714e0b17-28df-4e5a-b7e2-bd0d76d0c9a6\" class=\"colab-df-container\">\n",
              "    <div>\n",
              "<style scoped>\n",
              "    .dataframe tbody tr th:only-of-type {\n",
              "        vertical-align: middle;\n",
              "    }\n",
              "\n",
              "    .dataframe tbody tr th {\n",
              "        vertical-align: top;\n",
              "    }\n",
              "\n",
              "    .dataframe thead th {\n",
              "        text-align: right;\n",
              "    }\n",
              "</style>\n",
              "<table border=\"1\" class=\"dataframe\">\n",
              "  <thead>\n",
              "    <tr style=\"text-align: right;\">\n",
              "      <th></th>\n",
              "      <th>Unnamed: 0</th>\n",
              "      <th>index</th>\n",
              "      <th>URL</th>\n",
              "      <th>Date</th>\n",
              "      <th>Tweet</th>\n",
              "      <th>ID</th>\n",
              "      <th>Username</th>\n",
              "      <th>Replies</th>\n",
              "      <th>Reetweets</th>\n",
              "      <th>Likes</th>\n",
              "      <th>Quotes</th>\n",
              "      <th>conversationId</th>\n",
              "      <th>Language</th>\n",
              "      <th>Links</th>\n",
              "      <th>Media</th>\n",
              "      <th>Retweeted Tweet</th>\n",
              "      <th>Bookmarks</th>\n",
              "    </tr>\n",
              "  </thead>\n",
              "  <tbody>\n",
              "    <tr>\n",
              "      <th>0</th>\n",
              "      <td>0</td>\n",
              "      <td>6881</td>\n",
              "      <td>https://twitter.com/koesmanagalang/status/1657...</td>\n",
              "      <td>2023-05-13 17:02:16+00:00</td>\n",
              "      <td>@myrnn_ @secgron @bankbsi_id sistem sama orang...</td>\n",
              "      <td>1657431076921544705</td>\n",
              "      <td>koesmanagalang</td>\n",
              "      <td>1</td>\n",
              "      <td>0</td>\n",
              "      <td>0</td>\n",
              "      <td>0</td>\n",
              "      <td>1657192354829451264</td>\n",
              "      <td>in</td>\n",
              "      <td>NaN</td>\n",
              "      <td>NaN</td>\n",
              "      <td>NaN</td>\n",
              "      <td>0</td>\n",
              "    </tr>\n",
              "    <tr>\n",
              "      <th>1</th>\n",
              "      <td>1</td>\n",
              "      <td>9209</td>\n",
              "      <td>https://twitter.com/muhammad_dlya/status/16572...</td>\n",
              "      <td>2023-05-13 07:14:32+00:00</td>\n",
              "      <td>@setyodiwantoro @ZakyFarid @RochmatPurwanto @b...</td>\n",
              "      <td>1657283168054181888</td>\n",
              "      <td>muhammad_dlya</td>\n",
              "      <td>1</td>\n",
              "      <td>0</td>\n",
              "      <td>0</td>\n",
              "      <td>0</td>\n",
              "      <td>1657217322447425538</td>\n",
              "      <td>eu</td>\n",
              "      <td>NaN</td>\n",
              "      <td>NaN</td>\n",
              "      <td>NaN</td>\n",
              "      <td>0</td>\n",
              "    </tr>\n",
              "    <tr>\n",
              "      <th>2</th>\n",
              "      <td>2</td>\n",
              "      <td>13665</td>\n",
              "      <td>https://twitter.com/NuriSeptiyani/status/16566...</td>\n",
              "      <td>2023-05-11 13:40:46+00:00</td>\n",
              "      <td>@Kebosananan @detikcom iya nasabah bank konven...</td>\n",
              "      <td>1656655591488761857</td>\n",
              "      <td>NuriSeptiyani</td>\n",
              "      <td>2</td>\n",
              "      <td>0</td>\n",
              "      <td>1</td>\n",
              "      <td>1</td>\n",
              "      <td>1656576231545131008</td>\n",
              "      <td>in</td>\n",
              "      <td>NaN</td>\n",
              "      <td>NaN</td>\n",
              "      <td>NaN</td>\n",
              "      <td>0</td>\n",
              "    </tr>\n",
              "    <tr>\n",
              "      <th>3</th>\n",
              "      <td>3</td>\n",
              "      <td>17281</td>\n",
              "      <td>https://twitter.com/MasYusuf_/status/165646539...</td>\n",
              "      <td>2023-05-11 01:04:59+00:00</td>\n",
              "      <td>@bankbsi_id Gimana sih Min ini kok gak bisa la...</td>\n",
              "      <td>1656465393014419456</td>\n",
              "      <td>MasYusuf_</td>\n",
              "      <td>1</td>\n",
              "      <td>0</td>\n",
              "      <td>1</td>\n",
              "      <td>0</td>\n",
              "      <td>1655807602104872960</td>\n",
              "      <td>in</td>\n",
              "      <td>NaN</td>\n",
              "      <td>NaN</td>\n",
              "      <td>NaN</td>\n",
              "      <td>0</td>\n",
              "    </tr>\n",
              "    <tr>\n",
              "      <th>4</th>\n",
              "      <td>4</td>\n",
              "      <td>12216</td>\n",
              "      <td>https://twitter.com/KepoomrR/status/1656901084...</td>\n",
              "      <td>2023-05-12 05:56:16+00:00</td>\n",
              "      <td>@ssstef_ @bankbsi_id BCA Sy bisa nih kayaknya, 😅</td>\n",
              "      <td>1656901084693278720</td>\n",
              "      <td>KepoomrR</td>\n",
              "      <td>0</td>\n",
              "      <td>0</td>\n",
              "      <td>0</td>\n",
              "      <td>0</td>\n",
              "      <td>1656869834557378560</td>\n",
              "      <td>in</td>\n",
              "      <td>NaN</td>\n",
              "      <td>NaN</td>\n",
              "      <td>NaN</td>\n",
              "      <td>0</td>\n",
              "    </tr>\n",
              "    <tr>\n",
              "      <th>...</th>\n",
              "      <td>...</td>\n",
              "      <td>...</td>\n",
              "      <td>...</td>\n",
              "      <td>...</td>\n",
              "      <td>...</td>\n",
              "      <td>...</td>\n",
              "      <td>...</td>\n",
              "      <td>...</td>\n",
              "      <td>...</td>\n",
              "      <td>...</td>\n",
              "      <td>...</td>\n",
              "      <td>...</td>\n",
              "      <td>...</td>\n",
              "      <td>...</td>\n",
              "      <td>...</td>\n",
              "      <td>...</td>\n",
              "      <td>...</td>\n",
              "    </tr>\n",
              "    <tr>\n",
              "      <th>6095</th>\n",
              "      <td>6095</td>\n",
              "      <td>23150</td>\n",
              "      <td>https://twitter.com/RemajaKurus/status/1655921...</td>\n",
              "      <td>2023-05-09 13:03:25+00:00</td>\n",
              "      <td>@izthmm @bankbsi_id cek di mbankingnya kak?</td>\n",
              "      <td>1655921416846602242</td>\n",
              "      <td>RemajaKurus</td>\n",
              "      <td>3</td>\n",
              "      <td>0</td>\n",
              "      <td>0</td>\n",
              "      <td>0</td>\n",
              "      <td>1655807602104872960</td>\n",
              "      <td>in</td>\n",
              "      <td>NaN</td>\n",
              "      <td>NaN</td>\n",
              "      <td>NaN</td>\n",
              "      <td>0</td>\n",
              "    </tr>\n",
              "    <tr>\n",
              "      <th>6096</th>\n",
              "      <td>6096</td>\n",
              "      <td>22972</td>\n",
              "      <td>https://twitter.com/_dinsky/status/16559316066...</td>\n",
              "      <td>2023-05-09 13:43:55+00:00</td>\n",
              "      <td>mobile banking dah kebuka tp ga bisa ngapa nga...</td>\n",
              "      <td>1655931606673264640</td>\n",
              "      <td>_dinsky</td>\n",
              "      <td>0</td>\n",
              "      <td>0</td>\n",
              "      <td>0</td>\n",
              "      <td>0</td>\n",
              "      <td>1655931606673264640</td>\n",
              "      <td>in</td>\n",
              "      <td>NaN</td>\n",
              "      <td>NaN</td>\n",
              "      <td>NaN</td>\n",
              "      <td>0</td>\n",
              "    </tr>\n",
              "    <tr>\n",
              "      <th>6097</th>\n",
              "      <td>6097</td>\n",
              "      <td>21780</td>\n",
              "      <td>https://twitter.com/Gustav33429353/status/1656...</td>\n",
              "      <td>2023-05-10 03:23:22+00:00</td>\n",
              "      <td>@detikfinance Kalau ga siap jadi BANK mending ...</td>\n",
              "      <td>1656137826583613442</td>\n",
              "      <td>Gustav33429353</td>\n",
              "      <td>0</td>\n",
              "      <td>0</td>\n",
              "      <td>0</td>\n",
              "      <td>0</td>\n",
              "      <td>1656113414375129088</td>\n",
              "      <td>in</td>\n",
              "      <td>NaN</td>\n",
              "      <td>NaN</td>\n",
              "      <td>NaN</td>\n",
              "      <td>0</td>\n",
              "    </tr>\n",
              "    <tr>\n",
              "      <th>6098</th>\n",
              "      <td>6098</td>\n",
              "      <td>19945</td>\n",
              "      <td>https://twitter.com/TriezoElBuho/status/165625...</td>\n",
              "      <td>2023-05-10 10:49:44+00:00</td>\n",
              "      <td>@bankbsi_id @rahayuririnn Kagak bisa anying</td>\n",
              "      <td>1656250160664682496</td>\n",
              "      <td>TriezoElBuho</td>\n",
              "      <td>0</td>\n",
              "      <td>0</td>\n",
              "      <td>0</td>\n",
              "      <td>0</td>\n",
              "      <td>1655777758180708355</td>\n",
              "      <td>in</td>\n",
              "      <td>NaN</td>\n",
              "      <td>NaN</td>\n",
              "      <td>NaN</td>\n",
              "      <td>0</td>\n",
              "    </tr>\n",
              "    <tr>\n",
              "      <th>6099</th>\n",
              "      <td>6099</td>\n",
              "      <td>22608</td>\n",
              "      <td>https://twitter.com/jexso47/status/16559819223...</td>\n",
              "      <td>2023-05-09 17:03:51+00:00</td>\n",
              "      <td>@bankbsi_id top up dana dari mobile gabisa ken...</td>\n",
              "      <td>1655981922332602369</td>\n",
              "      <td>jexso47</td>\n",
              "      <td>0</td>\n",
              "      <td>0</td>\n",
              "      <td>0</td>\n",
              "      <td>0</td>\n",
              "      <td>1655807602104872960</td>\n",
              "      <td>in</td>\n",
              "      <td>NaN</td>\n",
              "      <td>NaN</td>\n",
              "      <td>NaN</td>\n",
              "      <td>0</td>\n",
              "    </tr>\n",
              "  </tbody>\n",
              "</table>\n",
              "<p>6100 rows × 17 columns</p>\n",
              "</div>\n",
              "    <div class=\"colab-df-buttons\">\n",
              "\n",
              "  <div class=\"colab-df-container\">\n",
              "    <button class=\"colab-df-convert\" onclick=\"convertToInteractive('df-714e0b17-28df-4e5a-b7e2-bd0d76d0c9a6')\"\n",
              "            title=\"Convert this dataframe to an interactive table.\"\n",
              "            style=\"display:none;\">\n",
              "\n",
              "  <svg xmlns=\"http://www.w3.org/2000/svg\" height=\"24px\" viewBox=\"0 -960 960 960\">\n",
              "    <path d=\"M120-120v-720h720v720H120Zm60-500h600v-160H180v160Zm220 220h160v-160H400v160Zm0 220h160v-160H400v160ZM180-400h160v-160H180v160Zm440 0h160v-160H620v160ZM180-180h160v-160H180v160Zm440 0h160v-160H620v160Z\"/>\n",
              "  </svg>\n",
              "    </button>\n",
              "\n",
              "  <style>\n",
              "    .colab-df-container {\n",
              "      display:flex;\n",
              "      gap: 12px;\n",
              "    }\n",
              "\n",
              "    .colab-df-convert {\n",
              "      background-color: #E8F0FE;\n",
              "      border: none;\n",
              "      border-radius: 50%;\n",
              "      cursor: pointer;\n",
              "      display: none;\n",
              "      fill: #1967D2;\n",
              "      height: 32px;\n",
              "      padding: 0 0 0 0;\n",
              "      width: 32px;\n",
              "    }\n",
              "\n",
              "    .colab-df-convert:hover {\n",
              "      background-color: #E2EBFA;\n",
              "      box-shadow: 0px 1px 2px rgba(60, 64, 67, 0.3), 0px 1px 3px 1px rgba(60, 64, 67, 0.15);\n",
              "      fill: #174EA6;\n",
              "    }\n",
              "\n",
              "    .colab-df-buttons div {\n",
              "      margin-bottom: 4px;\n",
              "    }\n",
              "\n",
              "    [theme=dark] .colab-df-convert {\n",
              "      background-color: #3B4455;\n",
              "      fill: #D2E3FC;\n",
              "    }\n",
              "\n",
              "    [theme=dark] .colab-df-convert:hover {\n",
              "      background-color: #434B5C;\n",
              "      box-shadow: 0px 1px 3px 1px rgba(0, 0, 0, 0.15);\n",
              "      filter: drop-shadow(0px 1px 2px rgba(0, 0, 0, 0.3));\n",
              "      fill: #FFFFFF;\n",
              "    }\n",
              "  </style>\n",
              "\n",
              "    <script>\n",
              "      const buttonEl =\n",
              "        document.querySelector('#df-714e0b17-28df-4e5a-b7e2-bd0d76d0c9a6 button.colab-df-convert');\n",
              "      buttonEl.style.display =\n",
              "        google.colab.kernel.accessAllowed ? 'block' : 'none';\n",
              "\n",
              "      async function convertToInteractive(key) {\n",
              "        const element = document.querySelector('#df-714e0b17-28df-4e5a-b7e2-bd0d76d0c9a6');\n",
              "        const dataTable =\n",
              "          await google.colab.kernel.invokeFunction('convertToInteractive',\n",
              "                                                    [key], {});\n",
              "        if (!dataTable) return;\n",
              "\n",
              "        const docLinkHtml = 'Like what you see? Visit the ' +\n",
              "          '<a target=\"_blank\" href=https://colab.research.google.com/notebooks/data_table.ipynb>data table notebook</a>'\n",
              "          + ' to learn more about interactive tables.';\n",
              "        element.innerHTML = '';\n",
              "        dataTable['output_type'] = 'display_data';\n",
              "        await google.colab.output.renderOutput(dataTable, element);\n",
              "        const docLink = document.createElement('div');\n",
              "        docLink.innerHTML = docLinkHtml;\n",
              "        element.appendChild(docLink);\n",
              "      }\n",
              "    </script>\n",
              "  </div>\n",
              "\n",
              "\n",
              "<div id=\"df-5d29a7c0-a5ff-42ec-8234-bae7ef923d61\">\n",
              "  <button class=\"colab-df-quickchart\" onclick=\"quickchart('df-5d29a7c0-a5ff-42ec-8234-bae7ef923d61')\"\n",
              "            title=\"Suggest charts\"\n",
              "            style=\"display:none;\">\n",
              "\n",
              "<svg xmlns=\"http://www.w3.org/2000/svg\" height=\"24px\"viewBox=\"0 0 24 24\"\n",
              "     width=\"24px\">\n",
              "    <g>\n",
              "        <path d=\"M19 3H5c-1.1 0-2 .9-2 2v14c0 1.1.9 2 2 2h14c1.1 0 2-.9 2-2V5c0-1.1-.9-2-2-2zM9 17H7v-7h2v7zm4 0h-2V7h2v10zm4 0h-2v-4h2v4z\"/>\n",
              "    </g>\n",
              "</svg>\n",
              "  </button>\n",
              "\n",
              "<style>\n",
              "  .colab-df-quickchart {\n",
              "      --bg-color: #E8F0FE;\n",
              "      --fill-color: #1967D2;\n",
              "      --hover-bg-color: #E2EBFA;\n",
              "      --hover-fill-color: #174EA6;\n",
              "      --disabled-fill-color: #AAA;\n",
              "      --disabled-bg-color: #DDD;\n",
              "  }\n",
              "\n",
              "  [theme=dark] .colab-df-quickchart {\n",
              "      --bg-color: #3B4455;\n",
              "      --fill-color: #D2E3FC;\n",
              "      --hover-bg-color: #434B5C;\n",
              "      --hover-fill-color: #FFFFFF;\n",
              "      --disabled-bg-color: #3B4455;\n",
              "      --disabled-fill-color: #666;\n",
              "  }\n",
              "\n",
              "  .colab-df-quickchart {\n",
              "    background-color: var(--bg-color);\n",
              "    border: none;\n",
              "    border-radius: 50%;\n",
              "    cursor: pointer;\n",
              "    display: none;\n",
              "    fill: var(--fill-color);\n",
              "    height: 32px;\n",
              "    padding: 0;\n",
              "    width: 32px;\n",
              "  }\n",
              "\n",
              "  .colab-df-quickchart:hover {\n",
              "    background-color: var(--hover-bg-color);\n",
              "    box-shadow: 0 1px 2px rgba(60, 64, 67, 0.3), 0 1px 3px 1px rgba(60, 64, 67, 0.15);\n",
              "    fill: var(--button-hover-fill-color);\n",
              "  }\n",
              "\n",
              "  .colab-df-quickchart-complete:disabled,\n",
              "  .colab-df-quickchart-complete:disabled:hover {\n",
              "    background-color: var(--disabled-bg-color);\n",
              "    fill: var(--disabled-fill-color);\n",
              "    box-shadow: none;\n",
              "  }\n",
              "\n",
              "  .colab-df-spinner {\n",
              "    border: 2px solid var(--fill-color);\n",
              "    border-color: transparent;\n",
              "    border-bottom-color: var(--fill-color);\n",
              "    animation:\n",
              "      spin 1s steps(1) infinite;\n",
              "  }\n",
              "\n",
              "  @keyframes spin {\n",
              "    0% {\n",
              "      border-color: transparent;\n",
              "      border-bottom-color: var(--fill-color);\n",
              "      border-left-color: var(--fill-color);\n",
              "    }\n",
              "    20% {\n",
              "      border-color: transparent;\n",
              "      border-left-color: var(--fill-color);\n",
              "      border-top-color: var(--fill-color);\n",
              "    }\n",
              "    30% {\n",
              "      border-color: transparent;\n",
              "      border-left-color: var(--fill-color);\n",
              "      border-top-color: var(--fill-color);\n",
              "      border-right-color: var(--fill-color);\n",
              "    }\n",
              "    40% {\n",
              "      border-color: transparent;\n",
              "      border-right-color: var(--fill-color);\n",
              "      border-top-color: var(--fill-color);\n",
              "    }\n",
              "    60% {\n",
              "      border-color: transparent;\n",
              "      border-right-color: var(--fill-color);\n",
              "    }\n",
              "    80% {\n",
              "      border-color: transparent;\n",
              "      border-right-color: var(--fill-color);\n",
              "      border-bottom-color: var(--fill-color);\n",
              "    }\n",
              "    90% {\n",
              "      border-color: transparent;\n",
              "      border-bottom-color: var(--fill-color);\n",
              "    }\n",
              "  }\n",
              "</style>\n",
              "\n",
              "  <script>\n",
              "    async function quickchart(key) {\n",
              "      const quickchartButtonEl =\n",
              "        document.querySelector('#' + key + ' button');\n",
              "      quickchartButtonEl.disabled = true;  // To prevent multiple clicks.\n",
              "      quickchartButtonEl.classList.add('colab-df-spinner');\n",
              "      try {\n",
              "        const charts = await google.colab.kernel.invokeFunction(\n",
              "            'suggestCharts', [key], {});\n",
              "      } catch (error) {\n",
              "        console.error('Error during call to suggestCharts:', error);\n",
              "      }\n",
              "      quickchartButtonEl.classList.remove('colab-df-spinner');\n",
              "      quickchartButtonEl.classList.add('colab-df-quickchart-complete');\n",
              "    }\n",
              "    (() => {\n",
              "      let quickchartButtonEl =\n",
              "        document.querySelector('#df-5d29a7c0-a5ff-42ec-8234-bae7ef923d61 button');\n",
              "      quickchartButtonEl.style.display =\n",
              "        google.colab.kernel.accessAllowed ? 'block' : 'none';\n",
              "    })();\n",
              "  </script>\n",
              "</div>\n",
              "\n",
              "  <div id=\"id_db1af844-2629-433a-9231-be5459f65a12\">\n",
              "    <style>\n",
              "      .colab-df-generate {\n",
              "        background-color: #E8F0FE;\n",
              "        border: none;\n",
              "        border-radius: 50%;\n",
              "        cursor: pointer;\n",
              "        display: none;\n",
              "        fill: #1967D2;\n",
              "        height: 32px;\n",
              "        padding: 0 0 0 0;\n",
              "        width: 32px;\n",
              "      }\n",
              "\n",
              "      .colab-df-generate:hover {\n",
              "        background-color: #E2EBFA;\n",
              "        box-shadow: 0px 1px 2px rgba(60, 64, 67, 0.3), 0px 1px 3px 1px rgba(60, 64, 67, 0.15);\n",
              "        fill: #174EA6;\n",
              "      }\n",
              "\n",
              "      [theme=dark] .colab-df-generate {\n",
              "        background-color: #3B4455;\n",
              "        fill: #D2E3FC;\n",
              "      }\n",
              "\n",
              "      [theme=dark] .colab-df-generate:hover {\n",
              "        background-color: #434B5C;\n",
              "        box-shadow: 0px 1px 3px 1px rgba(0, 0, 0, 0.15);\n",
              "        filter: drop-shadow(0px 1px 2px rgba(0, 0, 0, 0.3));\n",
              "        fill: #FFFFFF;\n",
              "      }\n",
              "    </style>\n",
              "    <button class=\"colab-df-generate\" onclick=\"generateWithVariable('df2_raw')\"\n",
              "            title=\"Generate code using this dataframe.\"\n",
              "            style=\"display:none;\">\n",
              "\n",
              "  <svg xmlns=\"http://www.w3.org/2000/svg\" height=\"24px\"viewBox=\"0 0 24 24\"\n",
              "       width=\"24px\">\n",
              "    <path d=\"M7,19H8.4L18.45,9,17,7.55,7,17.6ZM5,21V16.75L18.45,3.32a2,2,0,0,1,2.83,0l1.4,1.43a1.91,1.91,0,0,1,.58,1.4,1.91,1.91,0,0,1-.58,1.4L9.25,21ZM18.45,9,17,7.55Zm-12,3A5.31,5.31,0,0,0,4.9,8.1,5.31,5.31,0,0,0,1,6.5,5.31,5.31,0,0,0,4.9,4.9,5.31,5.31,0,0,0,6.5,1,5.31,5.31,0,0,0,8.1,4.9,5.31,5.31,0,0,0,12,6.5,5.46,5.46,0,0,0,6.5,12Z\"/>\n",
              "  </svg>\n",
              "    </button>\n",
              "    <script>\n",
              "      (() => {\n",
              "      const buttonEl =\n",
              "        document.querySelector('#id_db1af844-2629-433a-9231-be5459f65a12 button.colab-df-generate');\n",
              "      buttonEl.style.display =\n",
              "        google.colab.kernel.accessAllowed ? 'block' : 'none';\n",
              "\n",
              "      buttonEl.onclick = () => {\n",
              "        google.colab.notebook.generateWithVariable('df2_raw');\n",
              "      }\n",
              "      })();\n",
              "    </script>\n",
              "  </div>\n",
              "\n",
              "    </div>\n",
              "  </div>\n"
            ],
            "application/vnd.google.colaboratory.intrinsic+json": {
              "type": "dataframe",
              "variable_name": "df2_raw",
              "summary": "{\n  \"name\": \"df2_raw\",\n  \"rows\": 6100,\n  \"fields\": [\n    {\n      \"column\": \"Unnamed: 0\",\n      \"properties\": {\n        \"dtype\": \"number\",\n        \"std\": 1761,\n        \"min\": 0,\n        \"max\": 6099,\n        \"num_unique_values\": 6100,\n        \"samples\": [\n          2794,\n          2592,\n          5355\n        ],\n        \"semantic_type\": \"\",\n        \"description\": \"\"\n      }\n    },\n    {\n      \"column\": \"index\",\n      \"properties\": {\n        \"dtype\": \"number\",\n        \"std\": 7103,\n        \"min\": 4,\n        \"max\": 24400,\n        \"num_unique_values\": 6100,\n        \"samples\": [\n          20818,\n          14133,\n          18997\n        ],\n        \"semantic_type\": \"\",\n        \"description\": \"\"\n      }\n    },\n    {\n      \"column\": \"URL\",\n      \"properties\": {\n        \"dtype\": \"string\",\n        \"num_unique_values\": 6100,\n        \"samples\": [\n          \"https://twitter.com/RezqieHardi/status/1656206329294491650\",\n          \"https://twitter.com/ZulheriIsra/status/1656619602082951168\",\n          \"https://twitter.com/beomracer/status/1656287367047811074\"\n        ],\n        \"semantic_type\": \"\",\n        \"description\": \"\"\n      }\n    },\n    {\n      \"column\": \"Date\",\n      \"properties\": {\n        \"dtype\": \"object\",\n        \"num_unique_values\": 6061,\n        \"samples\": [\n          \"2023-05-11 08:50:41+00:00\",\n          \"2023-05-09 23:33:46+00:00\",\n          \"2023-05-10 12:52:20+00:00\"\n        ],\n        \"semantic_type\": \"\",\n        \"description\": \"\"\n      }\n    },\n    {\n      \"column\": \"Tweet\",\n      \"properties\": {\n        \"dtype\": \"string\",\n        \"num_unique_values\": 6089,\n        \"samples\": [\n          \"1,5 TB bank BSI Cicho\\n#\\u0e19\\u0e32\\u0e22\\u0e01\\u0e04\\u0e19\\u0e17\\u0e35\\u0e4830\\n#\\u0e01\\u0e49\\u0e32\\u0e27\\u0e44\\u0e01\\u0e25 Russia grup Mei lock bit rip hero\\nCharta Politika\",\n          \"Kok @bankbsi_id masih belum bisa transfer ke E-Wallet ya? .. sudah hari ke 6 ini!\",\n          \"@bankbsi_id @rizkyamikaze @intanpsupriatna @yazidm05 Saya gak bisa login\\ud83e\\udd26\\ud83e\\udd26\\ud83e\\udd26\"\n        ],\n        \"semantic_type\": \"\",\n        \"description\": \"\"\n      }\n    },\n    {\n      \"column\": \"ID\",\n      \"properties\": {\n        \"dtype\": \"number\",\n        \"std\": 802471487627811,\n        \"min\": 1655862147572977665,\n        \"max\": 1658975122894774272,\n        \"num_unique_values\": 6100,\n        \"samples\": [\n          1656206329294491650,\n          1656619602082951168,\n          1656287367047811074\n        ],\n        \"semantic_type\": \"\",\n        \"description\": \"\"\n      }\n    },\n    {\n      \"column\": \"Username\",\n      \"properties\": {\n        \"dtype\": \"string\",\n        \"num_unique_values\": 4544,\n        \"samples\": [\n          \"demaulan_\",\n          \"KaniaLara\",\n          \"BundaZahwa74\"\n        ],\n        \"semantic_type\": \"\",\n        \"description\": \"\"\n      }\n    },\n    {\n      \"column\": \"Replies\",\n      \"properties\": {\n        \"dtype\": \"number\",\n        \"std\": 4,\n        \"min\": 0,\n        \"max\": 179,\n        \"num_unique_values\": 33,\n        \"samples\": [\n          16,\n          19,\n          20\n        ],\n        \"semantic_type\": \"\",\n        \"description\": \"\"\n      }\n    },\n    {\n      \"column\": \"Reetweets\",\n      \"properties\": {\n        \"dtype\": \"number\",\n        \"std\": 18,\n        \"min\": 0,\n        \"max\": 1177,\n        \"num_unique_values\": 38,\n        \"samples\": [\n          40,\n          20,\n          10\n        ],\n        \"semantic_type\": \"\",\n        \"description\": \"\"\n      }\n    },\n    {\n      \"column\": \"Likes\",\n      \"properties\": {\n        \"dtype\": \"number\",\n        \"std\": 83,\n        \"min\": 0,\n        \"max\": 5189,\n        \"num_unique_values\": 66,\n        \"samples\": [\n          188,\n          29,\n          0\n        ],\n        \"semantic_type\": \"\",\n        \"description\": \"\"\n      }\n    },\n    {\n      \"column\": \"Quotes\",\n      \"properties\": {\n        \"dtype\": \"number\",\n        \"std\": 2,\n        \"min\": 0,\n        \"max\": 134,\n        \"num_unique_values\": 17,\n        \"samples\": [\n          0,\n          1,\n          3\n        ],\n        \"semantic_type\": \"\",\n        \"description\": \"\"\n      }\n    },\n    {\n      \"column\": \"conversationId\",\n      \"properties\": {\n        \"dtype\": \"number\",\n        \"std\": 3711218339665346,\n        \"min\": 1474192728351150093,\n        \"max\": 1658972921505914881,\n        \"num_unique_values\": 2455,\n        \"samples\": [\n          1656482931664367617,\n          1657533017081147393,\n          1656465377952681984\n        ],\n        \"semantic_type\": \"\",\n        \"description\": \"\"\n      }\n    },\n    {\n      \"column\": \"Language\",\n      \"properties\": {\n        \"dtype\": \"category\",\n        \"num_unique_values\": 12,\n        \"samples\": [\n          \"nl\",\n          \"fr\",\n          \"in\"\n        ],\n        \"semantic_type\": \"\",\n        \"description\": \"\"\n      }\n    },\n    {\n      \"column\": \"Links\",\n      \"properties\": {\n        \"dtype\": \"category\",\n        \"num_unique_values\": 203,\n        \"samples\": [\n          \"https://jagobanking.onelink.me/9ryZ/f8ewsjyl\",\n          \"https://brief.id/2023/05/beroperasi-akhir-pekan-bsi-terima-setoran-tunai-rp30-m/\",\n          \"https://twitter.com/Paltiwest/status/1658330792001703937?t=Keg1LRVKzs_6dkrykIRmyg&s=19\"\n        ],\n        \"semantic_type\": \"\",\n        \"description\": \"\"\n      }\n    },\n    {\n      \"column\": \"Media\",\n      \"properties\": {\n        \"dtype\": \"category\",\n        \"num_unique_values\": 544,\n        \"samples\": [\n          \"https://pbs.twimg.com/media/FvwbFeJaMAE2dzN?format=jpg&name=orig\",\n          \"https://pbs.twimg.com/media/Fv2v-epaQAUlUmI?format=jpg&name=orig\",\n          \"https://pbs.twimg.com/media/FwUxXA-akAA5Mu6?format=jpg&name=orig\"\n        ],\n        \"semantic_type\": \"\",\n        \"description\": \"\"\n      }\n    },\n    {\n      \"column\": \"Retweeted Tweet\",\n      \"properties\": {\n        \"dtype\": \"number\",\n        \"std\": null,\n        \"min\": null,\n        \"max\": null,\n        \"num_unique_values\": 0,\n        \"samples\": [],\n        \"semantic_type\": \"\",\n        \"description\": \"\"\n      }\n    },\n    {\n      \"column\": \"Bookmarks\",\n      \"properties\": {\n        \"dtype\": \"number\",\n        \"std\": 4,\n        \"min\": 0,\n        \"max\": 231,\n        \"num_unique_values\": 17,\n        \"samples\": [],\n        \"semantic_type\": \"\",\n        \"description\": \"\"\n      }\n    }\n  ]\n}"
            }
          },
          "metadata": {},
          "execution_count": 18
        }
      ],
      "source": [
        "df2_raw = pd.read_csv('/content/data_2C.csv')\n",
        "df2_raw"
      ]
    },
    {
      "cell_type": "markdown",
      "source": [
        "Only use relevant data"
      ],
      "metadata": {
        "id": "2BEdO94KhnaS"
      }
    },
    {
      "cell_type": "code",
      "source": [
        "df2 = df2_raw[['Tweet']]\n",
        "df2"
      ],
      "metadata": {
        "colab": {
          "base_uri": "https://localhost:8080/",
          "height": 413
        },
        "id": "yWscPZaDhl-Z",
        "outputId": "801657a7-64ed-4f0b-89cf-18a9fbcfcb69"
      },
      "execution_count": null,
      "outputs": [
        {
          "output_type": "execute_result",
          "data": {
            "text/plain": [
              "                                                  Tweet\n",
              "0     @myrnn_ @secgron @bankbsi_id sistem sama orang...\n",
              "1     @setyodiwantoro @ZakyFarid @RochmatPurwanto @b...\n",
              "2     @Kebosananan @detikcom iya nasabah bank konven...\n",
              "3     @bankbsi_id Gimana sih Min ini kok gak bisa la...\n",
              "4      @ssstef_ @bankbsi_id BCA Sy bisa nih kayaknya, 😅\n",
              "...                                                 ...\n",
              "6095        @izthmm @bankbsi_id cek di mbankingnya kak?\n",
              "6096  mobile banking dah kebuka tp ga bisa ngapa nga...\n",
              "6097  @detikfinance Kalau ga siap jadi BANK mending ...\n",
              "6098        @bankbsi_id @rahayuririnn Kagak bisa anying\n",
              "6099  @bankbsi_id top up dana dari mobile gabisa ken...\n",
              "\n",
              "[6100 rows x 1 columns]"
            ],
            "text/html": [
              "\n",
              "  <div id=\"df-64fee66f-b386-482c-9d72-e814fd60ae46\" class=\"colab-df-container\">\n",
              "    <div>\n",
              "<style scoped>\n",
              "    .dataframe tbody tr th:only-of-type {\n",
              "        vertical-align: middle;\n",
              "    }\n",
              "\n",
              "    .dataframe tbody tr th {\n",
              "        vertical-align: top;\n",
              "    }\n",
              "\n",
              "    .dataframe thead th {\n",
              "        text-align: right;\n",
              "    }\n",
              "</style>\n",
              "<table border=\"1\" class=\"dataframe\">\n",
              "  <thead>\n",
              "    <tr style=\"text-align: right;\">\n",
              "      <th></th>\n",
              "      <th>Tweet</th>\n",
              "    </tr>\n",
              "  </thead>\n",
              "  <tbody>\n",
              "    <tr>\n",
              "      <th>0</th>\n",
              "      <td>@myrnn_ @secgron @bankbsi_id sistem sama orang...</td>\n",
              "    </tr>\n",
              "    <tr>\n",
              "      <th>1</th>\n",
              "      <td>@setyodiwantoro @ZakyFarid @RochmatPurwanto @b...</td>\n",
              "    </tr>\n",
              "    <tr>\n",
              "      <th>2</th>\n",
              "      <td>@Kebosananan @detikcom iya nasabah bank konven...</td>\n",
              "    </tr>\n",
              "    <tr>\n",
              "      <th>3</th>\n",
              "      <td>@bankbsi_id Gimana sih Min ini kok gak bisa la...</td>\n",
              "    </tr>\n",
              "    <tr>\n",
              "      <th>4</th>\n",
              "      <td>@ssstef_ @bankbsi_id BCA Sy bisa nih kayaknya, 😅</td>\n",
              "    </tr>\n",
              "    <tr>\n",
              "      <th>...</th>\n",
              "      <td>...</td>\n",
              "    </tr>\n",
              "    <tr>\n",
              "      <th>6095</th>\n",
              "      <td>@izthmm @bankbsi_id cek di mbankingnya kak?</td>\n",
              "    </tr>\n",
              "    <tr>\n",
              "      <th>6096</th>\n",
              "      <td>mobile banking dah kebuka tp ga bisa ngapa nga...</td>\n",
              "    </tr>\n",
              "    <tr>\n",
              "      <th>6097</th>\n",
              "      <td>@detikfinance Kalau ga siap jadi BANK mending ...</td>\n",
              "    </tr>\n",
              "    <tr>\n",
              "      <th>6098</th>\n",
              "      <td>@bankbsi_id @rahayuririnn Kagak bisa anying</td>\n",
              "    </tr>\n",
              "    <tr>\n",
              "      <th>6099</th>\n",
              "      <td>@bankbsi_id top up dana dari mobile gabisa ken...</td>\n",
              "    </tr>\n",
              "  </tbody>\n",
              "</table>\n",
              "<p>6100 rows × 1 columns</p>\n",
              "</div>\n",
              "    <div class=\"colab-df-buttons\">\n",
              "\n",
              "  <div class=\"colab-df-container\">\n",
              "    <button class=\"colab-df-convert\" onclick=\"convertToInteractive('df-64fee66f-b386-482c-9d72-e814fd60ae46')\"\n",
              "            title=\"Convert this dataframe to an interactive table.\"\n",
              "            style=\"display:none;\">\n",
              "\n",
              "  <svg xmlns=\"http://www.w3.org/2000/svg\" height=\"24px\" viewBox=\"0 -960 960 960\">\n",
              "    <path d=\"M120-120v-720h720v720H120Zm60-500h600v-160H180v160Zm220 220h160v-160H400v160Zm0 220h160v-160H400v160ZM180-400h160v-160H180v160Zm440 0h160v-160H620v160ZM180-180h160v-160H180v160Zm440 0h160v-160H620v160Z\"/>\n",
              "  </svg>\n",
              "    </button>\n",
              "\n",
              "  <style>\n",
              "    .colab-df-container {\n",
              "      display:flex;\n",
              "      gap: 12px;\n",
              "    }\n",
              "\n",
              "    .colab-df-convert {\n",
              "      background-color: #E8F0FE;\n",
              "      border: none;\n",
              "      border-radius: 50%;\n",
              "      cursor: pointer;\n",
              "      display: none;\n",
              "      fill: #1967D2;\n",
              "      height: 32px;\n",
              "      padding: 0 0 0 0;\n",
              "      width: 32px;\n",
              "    }\n",
              "\n",
              "    .colab-df-convert:hover {\n",
              "      background-color: #E2EBFA;\n",
              "      box-shadow: 0px 1px 2px rgba(60, 64, 67, 0.3), 0px 1px 3px 1px rgba(60, 64, 67, 0.15);\n",
              "      fill: #174EA6;\n",
              "    }\n",
              "\n",
              "    .colab-df-buttons div {\n",
              "      margin-bottom: 4px;\n",
              "    }\n",
              "\n",
              "    [theme=dark] .colab-df-convert {\n",
              "      background-color: #3B4455;\n",
              "      fill: #D2E3FC;\n",
              "    }\n",
              "\n",
              "    [theme=dark] .colab-df-convert:hover {\n",
              "      background-color: #434B5C;\n",
              "      box-shadow: 0px 1px 3px 1px rgba(0, 0, 0, 0.15);\n",
              "      filter: drop-shadow(0px 1px 2px rgba(0, 0, 0, 0.3));\n",
              "      fill: #FFFFFF;\n",
              "    }\n",
              "  </style>\n",
              "\n",
              "    <script>\n",
              "      const buttonEl =\n",
              "        document.querySelector('#df-64fee66f-b386-482c-9d72-e814fd60ae46 button.colab-df-convert');\n",
              "      buttonEl.style.display =\n",
              "        google.colab.kernel.accessAllowed ? 'block' : 'none';\n",
              "\n",
              "      async function convertToInteractive(key) {\n",
              "        const element = document.querySelector('#df-64fee66f-b386-482c-9d72-e814fd60ae46');\n",
              "        const dataTable =\n",
              "          await google.colab.kernel.invokeFunction('convertToInteractive',\n",
              "                                                    [key], {});\n",
              "        if (!dataTable) return;\n",
              "\n",
              "        const docLinkHtml = 'Like what you see? Visit the ' +\n",
              "          '<a target=\"_blank\" href=https://colab.research.google.com/notebooks/data_table.ipynb>data table notebook</a>'\n",
              "          + ' to learn more about interactive tables.';\n",
              "        element.innerHTML = '';\n",
              "        dataTable['output_type'] = 'display_data';\n",
              "        await google.colab.output.renderOutput(dataTable, element);\n",
              "        const docLink = document.createElement('div');\n",
              "        docLink.innerHTML = docLinkHtml;\n",
              "        element.appendChild(docLink);\n",
              "      }\n",
              "    </script>\n",
              "  </div>\n",
              "\n",
              "\n",
              "<div id=\"df-805d6506-13c0-46ac-8d11-755f7a9fe310\">\n",
              "  <button class=\"colab-df-quickchart\" onclick=\"quickchart('df-805d6506-13c0-46ac-8d11-755f7a9fe310')\"\n",
              "            title=\"Suggest charts\"\n",
              "            style=\"display:none;\">\n",
              "\n",
              "<svg xmlns=\"http://www.w3.org/2000/svg\" height=\"24px\"viewBox=\"0 0 24 24\"\n",
              "     width=\"24px\">\n",
              "    <g>\n",
              "        <path d=\"M19 3H5c-1.1 0-2 .9-2 2v14c0 1.1.9 2 2 2h14c1.1 0 2-.9 2-2V5c0-1.1-.9-2-2-2zM9 17H7v-7h2v7zm4 0h-2V7h2v10zm4 0h-2v-4h2v4z\"/>\n",
              "    </g>\n",
              "</svg>\n",
              "  </button>\n",
              "\n",
              "<style>\n",
              "  .colab-df-quickchart {\n",
              "      --bg-color: #E8F0FE;\n",
              "      --fill-color: #1967D2;\n",
              "      --hover-bg-color: #E2EBFA;\n",
              "      --hover-fill-color: #174EA6;\n",
              "      --disabled-fill-color: #AAA;\n",
              "      --disabled-bg-color: #DDD;\n",
              "  }\n",
              "\n",
              "  [theme=dark] .colab-df-quickchart {\n",
              "      --bg-color: #3B4455;\n",
              "      --fill-color: #D2E3FC;\n",
              "      --hover-bg-color: #434B5C;\n",
              "      --hover-fill-color: #FFFFFF;\n",
              "      --disabled-bg-color: #3B4455;\n",
              "      --disabled-fill-color: #666;\n",
              "  }\n",
              "\n",
              "  .colab-df-quickchart {\n",
              "    background-color: var(--bg-color);\n",
              "    border: none;\n",
              "    border-radius: 50%;\n",
              "    cursor: pointer;\n",
              "    display: none;\n",
              "    fill: var(--fill-color);\n",
              "    height: 32px;\n",
              "    padding: 0;\n",
              "    width: 32px;\n",
              "  }\n",
              "\n",
              "  .colab-df-quickchart:hover {\n",
              "    background-color: var(--hover-bg-color);\n",
              "    box-shadow: 0 1px 2px rgba(60, 64, 67, 0.3), 0 1px 3px 1px rgba(60, 64, 67, 0.15);\n",
              "    fill: var(--button-hover-fill-color);\n",
              "  }\n",
              "\n",
              "  .colab-df-quickchart-complete:disabled,\n",
              "  .colab-df-quickchart-complete:disabled:hover {\n",
              "    background-color: var(--disabled-bg-color);\n",
              "    fill: var(--disabled-fill-color);\n",
              "    box-shadow: none;\n",
              "  }\n",
              "\n",
              "  .colab-df-spinner {\n",
              "    border: 2px solid var(--fill-color);\n",
              "    border-color: transparent;\n",
              "    border-bottom-color: var(--fill-color);\n",
              "    animation:\n",
              "      spin 1s steps(1) infinite;\n",
              "  }\n",
              "\n",
              "  @keyframes spin {\n",
              "    0% {\n",
              "      border-color: transparent;\n",
              "      border-bottom-color: var(--fill-color);\n",
              "      border-left-color: var(--fill-color);\n",
              "    }\n",
              "    20% {\n",
              "      border-color: transparent;\n",
              "      border-left-color: var(--fill-color);\n",
              "      border-top-color: var(--fill-color);\n",
              "    }\n",
              "    30% {\n",
              "      border-color: transparent;\n",
              "      border-left-color: var(--fill-color);\n",
              "      border-top-color: var(--fill-color);\n",
              "      border-right-color: var(--fill-color);\n",
              "    }\n",
              "    40% {\n",
              "      border-color: transparent;\n",
              "      border-right-color: var(--fill-color);\n",
              "      border-top-color: var(--fill-color);\n",
              "    }\n",
              "    60% {\n",
              "      border-color: transparent;\n",
              "      border-right-color: var(--fill-color);\n",
              "    }\n",
              "    80% {\n",
              "      border-color: transparent;\n",
              "      border-right-color: var(--fill-color);\n",
              "      border-bottom-color: var(--fill-color);\n",
              "    }\n",
              "    90% {\n",
              "      border-color: transparent;\n",
              "      border-bottom-color: var(--fill-color);\n",
              "    }\n",
              "  }\n",
              "</style>\n",
              "\n",
              "  <script>\n",
              "    async function quickchart(key) {\n",
              "      const quickchartButtonEl =\n",
              "        document.querySelector('#' + key + ' button');\n",
              "      quickchartButtonEl.disabled = true;  // To prevent multiple clicks.\n",
              "      quickchartButtonEl.classList.add('colab-df-spinner');\n",
              "      try {\n",
              "        const charts = await google.colab.kernel.invokeFunction(\n",
              "            'suggestCharts', [key], {});\n",
              "      } catch (error) {\n",
              "        console.error('Error during call to suggestCharts:', error);\n",
              "      }\n",
              "      quickchartButtonEl.classList.remove('colab-df-spinner');\n",
              "      quickchartButtonEl.classList.add('colab-df-quickchart-complete');\n",
              "    }\n",
              "    (() => {\n",
              "      let quickchartButtonEl =\n",
              "        document.querySelector('#df-805d6506-13c0-46ac-8d11-755f7a9fe310 button');\n",
              "      quickchartButtonEl.style.display =\n",
              "        google.colab.kernel.accessAllowed ? 'block' : 'none';\n",
              "    })();\n",
              "  </script>\n",
              "</div>\n",
              "\n",
              "  <div id=\"id_86c4c787-32be-4920-bb3f-279f29762e76\">\n",
              "    <style>\n",
              "      .colab-df-generate {\n",
              "        background-color: #E8F0FE;\n",
              "        border: none;\n",
              "        border-radius: 50%;\n",
              "        cursor: pointer;\n",
              "        display: none;\n",
              "        fill: #1967D2;\n",
              "        height: 32px;\n",
              "        padding: 0 0 0 0;\n",
              "        width: 32px;\n",
              "      }\n",
              "\n",
              "      .colab-df-generate:hover {\n",
              "        background-color: #E2EBFA;\n",
              "        box-shadow: 0px 1px 2px rgba(60, 64, 67, 0.3), 0px 1px 3px 1px rgba(60, 64, 67, 0.15);\n",
              "        fill: #174EA6;\n",
              "      }\n",
              "\n",
              "      [theme=dark] .colab-df-generate {\n",
              "        background-color: #3B4455;\n",
              "        fill: #D2E3FC;\n",
              "      }\n",
              "\n",
              "      [theme=dark] .colab-df-generate:hover {\n",
              "        background-color: #434B5C;\n",
              "        box-shadow: 0px 1px 3px 1px rgba(0, 0, 0, 0.15);\n",
              "        filter: drop-shadow(0px 1px 2px rgba(0, 0, 0, 0.3));\n",
              "        fill: #FFFFFF;\n",
              "      }\n",
              "    </style>\n",
              "    <button class=\"colab-df-generate\" onclick=\"generateWithVariable('df2')\"\n",
              "            title=\"Generate code using this dataframe.\"\n",
              "            style=\"display:none;\">\n",
              "\n",
              "  <svg xmlns=\"http://www.w3.org/2000/svg\" height=\"24px\"viewBox=\"0 0 24 24\"\n",
              "       width=\"24px\">\n",
              "    <path d=\"M7,19H8.4L18.45,9,17,7.55,7,17.6ZM5,21V16.75L18.45,3.32a2,2,0,0,1,2.83,0l1.4,1.43a1.91,1.91,0,0,1,.58,1.4,1.91,1.91,0,0,1-.58,1.4L9.25,21ZM18.45,9,17,7.55Zm-12,3A5.31,5.31,0,0,0,4.9,8.1,5.31,5.31,0,0,0,1,6.5,5.31,5.31,0,0,0,4.9,4.9,5.31,5.31,0,0,0,6.5,1,5.31,5.31,0,0,0,8.1,4.9,5.31,5.31,0,0,0,12,6.5,5.46,5.46,0,0,0,6.5,12Z\"/>\n",
              "  </svg>\n",
              "    </button>\n",
              "    <script>\n",
              "      (() => {\n",
              "      const buttonEl =\n",
              "        document.querySelector('#id_86c4c787-32be-4920-bb3f-279f29762e76 button.colab-df-generate');\n",
              "      buttonEl.style.display =\n",
              "        google.colab.kernel.accessAllowed ? 'block' : 'none';\n",
              "\n",
              "      buttonEl.onclick = () => {\n",
              "        google.colab.notebook.generateWithVariable('df2');\n",
              "      }\n",
              "      })();\n",
              "    </script>\n",
              "  </div>\n",
              "\n",
              "    </div>\n",
              "  </div>\n"
            ],
            "application/vnd.google.colaboratory.intrinsic+json": {
              "type": "dataframe",
              "variable_name": "df2",
              "summary": "{\n  \"name\": \"df2\",\n  \"rows\": 6100,\n  \"fields\": [\n    {\n      \"column\": \"Tweet\",\n      \"properties\": {\n        \"dtype\": \"string\",\n        \"num_unique_values\": 6089,\n        \"samples\": [\n          \"1,5 TB bank BSI Cicho\\n#\\u0e19\\u0e32\\u0e22\\u0e01\\u0e04\\u0e19\\u0e17\\u0e35\\u0e4830\\n#\\u0e01\\u0e49\\u0e32\\u0e27\\u0e44\\u0e01\\u0e25 Russia grup Mei lock bit rip hero\\nCharta Politika\",\n          \"Kok @bankbsi_id masih belum bisa transfer ke E-Wallet ya? .. sudah hari ke 6 ini!\",\n          \"@bankbsi_id @rizkyamikaze @intanpsupriatna @yazidm05 Saya gak bisa login\\ud83e\\udd26\\ud83e\\udd26\\ud83e\\udd26\"\n        ],\n        \"semantic_type\": \"\",\n        \"description\": \"\"\n      }\n    }\n  ]\n}"
            }
          },
          "metadata": {},
          "execution_count": 19
        }
      ]
    },
    {
      "cell_type": "code",
      "source": [
        "df2.isna().sum()"
      ],
      "metadata": {
        "colab": {
          "base_uri": "https://localhost:8080/"
        },
        "id": "wpVPy0XIh9qu",
        "outputId": "0dade08e-dc99-44c4-d623-d7467bd2d328"
      },
      "execution_count": null,
      "outputs": [
        {
          "output_type": "execute_result",
          "data": {
            "text/plain": [
              "Tweet    0\n",
              "dtype: int64"
            ]
          },
          "metadata": {},
          "execution_count": 20
        }
      ]
    },
    {
      "cell_type": "markdown",
      "source": [
        "Text Preprocessing"
      ],
      "metadata": {
        "id": "yEk-YgtaipaB"
      }
    },
    {
      "cell_type": "code",
      "source": [
        "# Remove punctutation\n",
        "def punctuation(text):\n",
        "    punctuationfree=\"\".join([i for i in text if i not in string.punctuation])\n",
        "    return punctuationfree\n",
        "df2['clean'] = df2['Tweet'].apply(punctuation)"
      ],
      "metadata": {
        "colab": {
          "base_uri": "https://localhost:8080/"
        },
        "id": "rvExSltXiF0Y",
        "outputId": "786ff235-cf08-4f9d-877c-a03b3635b4f5"
      },
      "execution_count": null,
      "outputs": [
        {
          "output_type": "stream",
          "name": "stderr",
          "text": [
            "<ipython-input-21-eba33ba5fbe0>:5: SettingWithCopyWarning: \n",
            "A value is trying to be set on a copy of a slice from a DataFrame.\n",
            "Try using .loc[row_indexer,col_indexer] = value instead\n",
            "\n",
            "See the caveats in the documentation: https://pandas.pydata.org/pandas-docs/stable/user_guide/indexing.html#returning-a-view-versus-a-copy\n",
            "  df2['clean'] = df2['Tweet'].apply(punctuation)\n"
          ]
        }
      ]
    },
    {
      "cell_type": "code",
      "source": [
        "# Remove emojis\n",
        "def remove_emojis(text):\n",
        "    if not isinstance(text, str):\n",
        "        return text\n",
        "    emoji_pattern = re.compile(\n",
        "        \"[\"\n",
        "        u\"\\U0001F600-\\U0001F64F\"\n",
        "        u\"\\U0001F300-\\U0001F5FF\"\n",
        "        u\"\\U0001F680-\\U0001F6FF\"\n",
        "        u\"\\U0001F1E0-\\U0001F1FF\"\n",
        "        u\"\\U00002702-\\U000027B0\"\n",
        "        u\"\\U000024C2-\\U0001F251\"\n",
        "        \"]+\", flags=re.UNICODE\n",
        "    )\n",
        "    return emoji_pattern.sub(r'', text)\n",
        "\n",
        "df2['clean'] = df2['clean'].apply(remove_emojis)"
      ],
      "metadata": {
        "id": "oDHHyx82i5CR",
        "colab": {
          "base_uri": "https://localhost:8080/"
        },
        "outputId": "714a8709-3bdf-442d-ee86-d5e7b56868a6"
      },
      "execution_count": null,
      "outputs": [
        {
          "output_type": "stream",
          "name": "stderr",
          "text": [
            "<ipython-input-22-c17c2d3ba6cb>:17: SettingWithCopyWarning: \n",
            "A value is trying to be set on a copy of a slice from a DataFrame.\n",
            "Try using .loc[row_indexer,col_indexer] = value instead\n",
            "\n",
            "See the caveats in the documentation: https://pandas.pydata.org/pandas-docs/stable/user_guide/indexing.html#returning-a-view-versus-a-copy\n",
            "  df2['clean'] = df2['clean'].apply(remove_emojis)\n"
          ]
        }
      ]
    },
    {
      "cell_type": "code",
      "source": [
        "#Remove miscellaneous and change string to lowercase\n",
        "def clean_text(text):\n",
        "    text = text.lower()\n",
        "    text = re.sub(r'\\S*https?://\\S*', '', text)\n",
        "    text = re.sub(r'@\\w+', \"\", text)\n",
        "    text = re.sub(r'#\\w+', \"\", text)\n",
        "    text = re.sub(r'\\d+', \"\", text)\n",
        "    return text\n",
        "\n",
        "df2['clean'] = df2['clean'].apply(clean_text)"
      ],
      "metadata": {
        "colab": {
          "base_uri": "https://localhost:8080/"
        },
        "id": "6X88EU_hm3gO",
        "outputId": "97177ce2-5454-4312-b5d3-44d2fcdd2c9b"
      },
      "execution_count": null,
      "outputs": [
        {
          "output_type": "stream",
          "name": "stderr",
          "text": [
            "<ipython-input-23-010dd6f1a538>:10: SettingWithCopyWarning: \n",
            "A value is trying to be set on a copy of a slice from a DataFrame.\n",
            "Try using .loc[row_indexer,col_indexer] = value instead\n",
            "\n",
            "See the caveats in the documentation: https://pandas.pydata.org/pandas-docs/stable/user_guide/indexing.html#returning-a-view-versus-a-copy\n",
            "  df2['clean'] = df2['clean'].apply(clean_text)\n"
          ]
        }
      ]
    },
    {
      "cell_type": "code",
      "source": [
        "# Stopwords\n",
        "ind_stopwords = stopwords.words('indonesian')\n",
        "def remove_stopwords(text):\n",
        "    words = word_tokenize(text)\n",
        "    words_without_stopwords = [word for word in words if word.lower() not in ind_stopwords]\n",
        "    return ' '.join(words_without_stopwords)\n",
        "\n",
        "df2['clean'] = df2['clean'].apply(remove_stopwords)"
      ],
      "metadata": {
        "id": "osdqAam-jTCk",
        "colab": {
          "base_uri": "https://localhost:8080/"
        },
        "outputId": "dd306165-adb9-42f7-c0ec-935c997a5fd8"
      },
      "execution_count": null,
      "outputs": [
        {
          "output_type": "stream",
          "name": "stderr",
          "text": [
            "<ipython-input-24-a967a9274fe0>:8: SettingWithCopyWarning: \n",
            "A value is trying to be set on a copy of a slice from a DataFrame.\n",
            "Try using .loc[row_indexer,col_indexer] = value instead\n",
            "\n",
            "See the caveats in the documentation: https://pandas.pydata.org/pandas-docs/stable/user_guide/indexing.html#returning-a-view-versus-a-copy\n",
            "  df2['clean'] = df2['clean'].apply(remove_stopwords)\n"
          ]
        }
      ]
    },
    {
      "cell_type": "code",
      "source": [
        "# Tokenization\n",
        "def tokenize(text):\n",
        "    return word_tokenize(text)\n",
        "\n",
        "df2['clean'] = df2['clean'].apply(tokenize)"
      ],
      "metadata": {
        "id": "NgJ7Wk7lkFWM",
        "colab": {
          "base_uri": "https://localhost:8080/"
        },
        "outputId": "fadf2869-58be-4e9c-acc2-ffd4f18495de"
      },
      "execution_count": null,
      "outputs": [
        {
          "output_type": "stream",
          "name": "stderr",
          "text": [
            "<ipython-input-25-969375ac40c6>:5: SettingWithCopyWarning: \n",
            "A value is trying to be set on a copy of a slice from a DataFrame.\n",
            "Try using .loc[row_indexer,col_indexer] = value instead\n",
            "\n",
            "See the caveats in the documentation: https://pandas.pydata.org/pandas-docs/stable/user_guide/indexing.html#returning-a-view-versus-a-copy\n",
            "  df2['clean'] = df2['clean'].apply(tokenize)\n"
          ]
        }
      ]
    },
    {
      "cell_type": "code",
      "source": [
        "# Lemmatization\n",
        "word_lemmatizer = WordNetLemmatizer()\n",
        "\n",
        "def lemmatize_text(tokens):\n",
        "    lemmatized_words = [word_lemmatizer.lemmatize(word) for word in tokens]\n",
        "    return lemmatized_words\n",
        "\n",
        "df2['clean'] = df2['clean'].apply(lemmatize_text)"
      ],
      "metadata": {
        "id": "0zUALDitkQwd",
        "colab": {
          "base_uri": "https://localhost:8080/"
        },
        "outputId": "24dee532-b486-4487-b12d-0301550f490a"
      },
      "execution_count": null,
      "outputs": [
        {
          "output_type": "stream",
          "name": "stderr",
          "text": [
            "<ipython-input-26-a7f2697f9a79>:8: SettingWithCopyWarning: \n",
            "A value is trying to be set on a copy of a slice from a DataFrame.\n",
            "Try using .loc[row_indexer,col_indexer] = value instead\n",
            "\n",
            "See the caveats in the documentation: https://pandas.pydata.org/pandas-docs/stable/user_guide/indexing.html#returning-a-view-versus-a-copy\n",
            "  df2['clean'] = df2['clean'].apply(lemmatize_text)\n"
          ]
        }
      ]
    },
    {
      "cell_type": "markdown",
      "source": [
        "Compare clean data to raw data"
      ],
      "metadata": {
        "id": "fb15Ud3lks3v"
      }
    },
    {
      "cell_type": "code",
      "source": [
        "df2.head()"
      ],
      "metadata": {
        "id": "fOKzMOVdkumy",
        "colab": {
          "base_uri": "https://localhost:8080/",
          "height": 201
        },
        "outputId": "53b994f6-7f81-4e0b-8264-fc9d5d148d82"
      },
      "execution_count": null,
      "outputs": [
        {
          "output_type": "execute_result",
          "data": {
            "text/plain": [
              "                                               Tweet  \\\n",
              "0  @myrnn_ @secgron @bankbsi_id sistem sama orang...   \n",
              "1  @setyodiwantoro @ZakyFarid @RochmatPurwanto @b...   \n",
              "2  @Kebosananan @detikcom iya nasabah bank konven...   \n",
              "3  @bankbsi_id Gimana sih Min ini kok gak bisa la...   \n",
              "4   @ssstef_ @bankbsi_id BCA Sy bisa nih kayaknya, 😅   \n",
              "\n",
              "                                               clean  \n",
              "0  [myrnn, secgron, bankbsiid, sistem, orangnya, ...  \n",
              "1  [setyodiwantoro, zakyfarid, rochmatpurwanto, b...  \n",
              "2  [kebosananan, detikcom, iya, nasabah, bank, ko...  \n",
              "3  [bankbsiid, gimana, sih, min, gak, bsi, mobile...  \n",
              "4        [ssstef, bankbsiid, bca, sy, nih, kayaknya]  "
            ],
            "text/html": [
              "\n",
              "  <div id=\"df-23061758-9168-4acd-8850-f2afdf799fad\" class=\"colab-df-container\">\n",
              "    <div>\n",
              "<style scoped>\n",
              "    .dataframe tbody tr th:only-of-type {\n",
              "        vertical-align: middle;\n",
              "    }\n",
              "\n",
              "    .dataframe tbody tr th {\n",
              "        vertical-align: top;\n",
              "    }\n",
              "\n",
              "    .dataframe thead th {\n",
              "        text-align: right;\n",
              "    }\n",
              "</style>\n",
              "<table border=\"1\" class=\"dataframe\">\n",
              "  <thead>\n",
              "    <tr style=\"text-align: right;\">\n",
              "      <th></th>\n",
              "      <th>Tweet</th>\n",
              "      <th>clean</th>\n",
              "    </tr>\n",
              "  </thead>\n",
              "  <tbody>\n",
              "    <tr>\n",
              "      <th>0</th>\n",
              "      <td>@myrnn_ @secgron @bankbsi_id sistem sama orang...</td>\n",
              "      <td>[myrnn, secgron, bankbsiid, sistem, orangnya, ...</td>\n",
              "    </tr>\n",
              "    <tr>\n",
              "      <th>1</th>\n",
              "      <td>@setyodiwantoro @ZakyFarid @RochmatPurwanto @b...</td>\n",
              "      <td>[setyodiwantoro, zakyfarid, rochmatpurwanto, b...</td>\n",
              "    </tr>\n",
              "    <tr>\n",
              "      <th>2</th>\n",
              "      <td>@Kebosananan @detikcom iya nasabah bank konven...</td>\n",
              "      <td>[kebosananan, detikcom, iya, nasabah, bank, ko...</td>\n",
              "    </tr>\n",
              "    <tr>\n",
              "      <th>3</th>\n",
              "      <td>@bankbsi_id Gimana sih Min ini kok gak bisa la...</td>\n",
              "      <td>[bankbsiid, gimana, sih, min, gak, bsi, mobile...</td>\n",
              "    </tr>\n",
              "    <tr>\n",
              "      <th>4</th>\n",
              "      <td>@ssstef_ @bankbsi_id BCA Sy bisa nih kayaknya, 😅</td>\n",
              "      <td>[ssstef, bankbsiid, bca, sy, nih, kayaknya]</td>\n",
              "    </tr>\n",
              "  </tbody>\n",
              "</table>\n",
              "</div>\n",
              "    <div class=\"colab-df-buttons\">\n",
              "\n",
              "  <div class=\"colab-df-container\">\n",
              "    <button class=\"colab-df-convert\" onclick=\"convertToInteractive('df-23061758-9168-4acd-8850-f2afdf799fad')\"\n",
              "            title=\"Convert this dataframe to an interactive table.\"\n",
              "            style=\"display:none;\">\n",
              "\n",
              "  <svg xmlns=\"http://www.w3.org/2000/svg\" height=\"24px\" viewBox=\"0 -960 960 960\">\n",
              "    <path d=\"M120-120v-720h720v720H120Zm60-500h600v-160H180v160Zm220 220h160v-160H400v160Zm0 220h160v-160H400v160ZM180-400h160v-160H180v160Zm440 0h160v-160H620v160ZM180-180h160v-160H180v160Zm440 0h160v-160H620v160Z\"/>\n",
              "  </svg>\n",
              "    </button>\n",
              "\n",
              "  <style>\n",
              "    .colab-df-container {\n",
              "      display:flex;\n",
              "      gap: 12px;\n",
              "    }\n",
              "\n",
              "    .colab-df-convert {\n",
              "      background-color: #E8F0FE;\n",
              "      border: none;\n",
              "      border-radius: 50%;\n",
              "      cursor: pointer;\n",
              "      display: none;\n",
              "      fill: #1967D2;\n",
              "      height: 32px;\n",
              "      padding: 0 0 0 0;\n",
              "      width: 32px;\n",
              "    }\n",
              "\n",
              "    .colab-df-convert:hover {\n",
              "      background-color: #E2EBFA;\n",
              "      box-shadow: 0px 1px 2px rgba(60, 64, 67, 0.3), 0px 1px 3px 1px rgba(60, 64, 67, 0.15);\n",
              "      fill: #174EA6;\n",
              "    }\n",
              "\n",
              "    .colab-df-buttons div {\n",
              "      margin-bottom: 4px;\n",
              "    }\n",
              "\n",
              "    [theme=dark] .colab-df-convert {\n",
              "      background-color: #3B4455;\n",
              "      fill: #D2E3FC;\n",
              "    }\n",
              "\n",
              "    [theme=dark] .colab-df-convert:hover {\n",
              "      background-color: #434B5C;\n",
              "      box-shadow: 0px 1px 3px 1px rgba(0, 0, 0, 0.15);\n",
              "      filter: drop-shadow(0px 1px 2px rgba(0, 0, 0, 0.3));\n",
              "      fill: #FFFFFF;\n",
              "    }\n",
              "  </style>\n",
              "\n",
              "    <script>\n",
              "      const buttonEl =\n",
              "        document.querySelector('#df-23061758-9168-4acd-8850-f2afdf799fad button.colab-df-convert');\n",
              "      buttonEl.style.display =\n",
              "        google.colab.kernel.accessAllowed ? 'block' : 'none';\n",
              "\n",
              "      async function convertToInteractive(key) {\n",
              "        const element = document.querySelector('#df-23061758-9168-4acd-8850-f2afdf799fad');\n",
              "        const dataTable =\n",
              "          await google.colab.kernel.invokeFunction('convertToInteractive',\n",
              "                                                    [key], {});\n",
              "        if (!dataTable) return;\n",
              "\n",
              "        const docLinkHtml = 'Like what you see? Visit the ' +\n",
              "          '<a target=\"_blank\" href=https://colab.research.google.com/notebooks/data_table.ipynb>data table notebook</a>'\n",
              "          + ' to learn more about interactive tables.';\n",
              "        element.innerHTML = '';\n",
              "        dataTable['output_type'] = 'display_data';\n",
              "        await google.colab.output.renderOutput(dataTable, element);\n",
              "        const docLink = document.createElement('div');\n",
              "        docLink.innerHTML = docLinkHtml;\n",
              "        element.appendChild(docLink);\n",
              "      }\n",
              "    </script>\n",
              "  </div>\n",
              "\n",
              "\n",
              "<div id=\"df-cb33a853-8f02-4fc7-98ef-9ada1b37fd88\">\n",
              "  <button class=\"colab-df-quickchart\" onclick=\"quickchart('df-cb33a853-8f02-4fc7-98ef-9ada1b37fd88')\"\n",
              "            title=\"Suggest charts\"\n",
              "            style=\"display:none;\">\n",
              "\n",
              "<svg xmlns=\"http://www.w3.org/2000/svg\" height=\"24px\"viewBox=\"0 0 24 24\"\n",
              "     width=\"24px\">\n",
              "    <g>\n",
              "        <path d=\"M19 3H5c-1.1 0-2 .9-2 2v14c0 1.1.9 2 2 2h14c1.1 0 2-.9 2-2V5c0-1.1-.9-2-2-2zM9 17H7v-7h2v7zm4 0h-2V7h2v10zm4 0h-2v-4h2v4z\"/>\n",
              "    </g>\n",
              "</svg>\n",
              "  </button>\n",
              "\n",
              "<style>\n",
              "  .colab-df-quickchart {\n",
              "      --bg-color: #E8F0FE;\n",
              "      --fill-color: #1967D2;\n",
              "      --hover-bg-color: #E2EBFA;\n",
              "      --hover-fill-color: #174EA6;\n",
              "      --disabled-fill-color: #AAA;\n",
              "      --disabled-bg-color: #DDD;\n",
              "  }\n",
              "\n",
              "  [theme=dark] .colab-df-quickchart {\n",
              "      --bg-color: #3B4455;\n",
              "      --fill-color: #D2E3FC;\n",
              "      --hover-bg-color: #434B5C;\n",
              "      --hover-fill-color: #FFFFFF;\n",
              "      --disabled-bg-color: #3B4455;\n",
              "      --disabled-fill-color: #666;\n",
              "  }\n",
              "\n",
              "  .colab-df-quickchart {\n",
              "    background-color: var(--bg-color);\n",
              "    border: none;\n",
              "    border-radius: 50%;\n",
              "    cursor: pointer;\n",
              "    display: none;\n",
              "    fill: var(--fill-color);\n",
              "    height: 32px;\n",
              "    padding: 0;\n",
              "    width: 32px;\n",
              "  }\n",
              "\n",
              "  .colab-df-quickchart:hover {\n",
              "    background-color: var(--hover-bg-color);\n",
              "    box-shadow: 0 1px 2px rgba(60, 64, 67, 0.3), 0 1px 3px 1px rgba(60, 64, 67, 0.15);\n",
              "    fill: var(--button-hover-fill-color);\n",
              "  }\n",
              "\n",
              "  .colab-df-quickchart-complete:disabled,\n",
              "  .colab-df-quickchart-complete:disabled:hover {\n",
              "    background-color: var(--disabled-bg-color);\n",
              "    fill: var(--disabled-fill-color);\n",
              "    box-shadow: none;\n",
              "  }\n",
              "\n",
              "  .colab-df-spinner {\n",
              "    border: 2px solid var(--fill-color);\n",
              "    border-color: transparent;\n",
              "    border-bottom-color: var(--fill-color);\n",
              "    animation:\n",
              "      spin 1s steps(1) infinite;\n",
              "  }\n",
              "\n",
              "  @keyframes spin {\n",
              "    0% {\n",
              "      border-color: transparent;\n",
              "      border-bottom-color: var(--fill-color);\n",
              "      border-left-color: var(--fill-color);\n",
              "    }\n",
              "    20% {\n",
              "      border-color: transparent;\n",
              "      border-left-color: var(--fill-color);\n",
              "      border-top-color: var(--fill-color);\n",
              "    }\n",
              "    30% {\n",
              "      border-color: transparent;\n",
              "      border-left-color: var(--fill-color);\n",
              "      border-top-color: var(--fill-color);\n",
              "      border-right-color: var(--fill-color);\n",
              "    }\n",
              "    40% {\n",
              "      border-color: transparent;\n",
              "      border-right-color: var(--fill-color);\n",
              "      border-top-color: var(--fill-color);\n",
              "    }\n",
              "    60% {\n",
              "      border-color: transparent;\n",
              "      border-right-color: var(--fill-color);\n",
              "    }\n",
              "    80% {\n",
              "      border-color: transparent;\n",
              "      border-right-color: var(--fill-color);\n",
              "      border-bottom-color: var(--fill-color);\n",
              "    }\n",
              "    90% {\n",
              "      border-color: transparent;\n",
              "      border-bottom-color: var(--fill-color);\n",
              "    }\n",
              "  }\n",
              "</style>\n",
              "\n",
              "  <script>\n",
              "    async function quickchart(key) {\n",
              "      const quickchartButtonEl =\n",
              "        document.querySelector('#' + key + ' button');\n",
              "      quickchartButtonEl.disabled = true;  // To prevent multiple clicks.\n",
              "      quickchartButtonEl.classList.add('colab-df-spinner');\n",
              "      try {\n",
              "        const charts = await google.colab.kernel.invokeFunction(\n",
              "            'suggestCharts', [key], {});\n",
              "      } catch (error) {\n",
              "        console.error('Error during call to suggestCharts:', error);\n",
              "      }\n",
              "      quickchartButtonEl.classList.remove('colab-df-spinner');\n",
              "      quickchartButtonEl.classList.add('colab-df-quickchart-complete');\n",
              "    }\n",
              "    (() => {\n",
              "      let quickchartButtonEl =\n",
              "        document.querySelector('#df-cb33a853-8f02-4fc7-98ef-9ada1b37fd88 button');\n",
              "      quickchartButtonEl.style.display =\n",
              "        google.colab.kernel.accessAllowed ? 'block' : 'none';\n",
              "    })();\n",
              "  </script>\n",
              "</div>\n",
              "\n",
              "    </div>\n",
              "  </div>\n"
            ],
            "application/vnd.google.colaboratory.intrinsic+json": {
              "type": "dataframe",
              "variable_name": "df2",
              "summary": "{\n  \"name\": \"df2\",\n  \"rows\": 6100,\n  \"fields\": [\n    {\n      \"column\": \"Tweet\",\n      \"properties\": {\n        \"dtype\": \"string\",\n        \"num_unique_values\": 6089,\n        \"samples\": [\n          \"1,5 TB bank BSI Cicho\\n#\\u0e19\\u0e32\\u0e22\\u0e01\\u0e04\\u0e19\\u0e17\\u0e35\\u0e4830\\n#\\u0e01\\u0e49\\u0e32\\u0e27\\u0e44\\u0e01\\u0e25 Russia grup Mei lock bit rip hero\\nCharta Politika\",\n          \"Kok @bankbsi_id masih belum bisa transfer ke E-Wallet ya? .. sudah hari ke 6 ini!\",\n          \"@bankbsi_id @rizkyamikaze @intanpsupriatna @yazidm05 Saya gak bisa login\\ud83e\\udd26\\ud83e\\udd26\\ud83e\\udd26\"\n        ],\n        \"semantic_type\": \"\",\n        \"description\": \"\"\n      }\n    },\n    {\n      \"column\": \"clean\",\n      \"properties\": {\n        \"dtype\": \"object\",\n        \"semantic_type\": \"\",\n        \"description\": \"\"\n      }\n    }\n  ]\n}"
            }
          },
          "metadata": {},
          "execution_count": 27
        }
      ]
    },
    {
      "cell_type": "markdown",
      "source": [
        "Use clean data as x, convert to vectors"
      ],
      "metadata": {
        "id": "Pm0EaWWZnBYm"
      }
    },
    {
      "cell_type": "code",
      "source": [
        "# Word2vec\n",
        "word2vec = Word2Vec(sentences=df2['clean'], vector_size=50, min_count=3)"
      ],
      "metadata": {
        "id": "w56_3yLWnAfW"
      },
      "execution_count": null,
      "outputs": []
    },
    {
      "cell_type": "code",
      "source": [
        "# Prep data for clustering\n",
        "def get_document_vector(tokens):\n",
        "    vector = [word2vec.wv[word] for word in tokens if word in word2vec.wv]\n",
        "    if len(vector) == 0:\n",
        "        return [0] * word2vec.vector_size\n",
        "    return list(sum(vector) / len(vector))\n",
        "\n",
        "df2['vector'] = df2['clean'].apply(get_document_vector)\n",
        "X = np.array(list(df2['vector']))"
      ],
      "metadata": {
        "colab": {
          "base_uri": "https://localhost:8080/"
        },
        "id": "LIDkqOEboBrL",
        "outputId": "9db2bd8a-668c-47d0-cc18-28b4903e4e39"
      },
      "execution_count": null,
      "outputs": [
        {
          "output_type": "stream",
          "name": "stderr",
          "text": [
            "<ipython-input-32-9bae35960a64>:8: SettingWithCopyWarning: \n",
            "A value is trying to be set on a copy of a slice from a DataFrame.\n",
            "Try using .loc[row_indexer,col_indexer] = value instead\n",
            "\n",
            "See the caveats in the documentation: https://pandas.pydata.org/pandas-docs/stable/user_guide/indexing.html#returning-a-view-versus-a-copy\n",
            "  df2['vector'] = df2['clean'].apply(get_document_vector)\n"
          ]
        }
      ]
    },
    {
      "cell_type": "markdown",
      "source": [
        "## Text clustering"
      ],
      "metadata": {
        "id": "cXbUiJMdnXmT"
      }
    },
    {
      "cell_type": "markdown",
      "source": [
        "Tentukan jumlah cluster optimum dengan elbow method"
      ],
      "metadata": {
        "id": "jziE9dxnn1-B"
      }
    },
    {
      "cell_type": "code",
      "source": [
        "#elbow method\n",
        "ks = range(1,6)\n",
        "inertias = []\n",
        "for k in ks:\n",
        "  model = KMeans(n_clusters = k)\n",
        "  model.fit(X)\n",
        "  inertias.append(model.inertia_)\n",
        "\n",
        "plt.plot(ks, inertias, '-o')\n",
        "plt.xticks(ks)\n",
        "plt.show()"
      ],
      "metadata": {
        "colab": {
          "base_uri": "https://localhost:8080/",
          "height": 616
        },
        "id": "OUrbNI2GnemX",
        "outputId": "49ef84bc-203c-4786-fcab-390f41936e82"
      },
      "execution_count": null,
      "outputs": [
        {
          "output_type": "stream",
          "name": "stderr",
          "text": [
            "/usr/local/lib/python3.10/dist-packages/sklearn/cluster/_kmeans.py:870: FutureWarning: The default value of `n_init` will change from 10 to 'auto' in 1.4. Set the value of `n_init` explicitly to suppress the warning\n",
            "  warnings.warn(\n",
            "/usr/local/lib/python3.10/dist-packages/sklearn/cluster/_kmeans.py:870: FutureWarning: The default value of `n_init` will change from 10 to 'auto' in 1.4. Set the value of `n_init` explicitly to suppress the warning\n",
            "  warnings.warn(\n",
            "/usr/local/lib/python3.10/dist-packages/sklearn/cluster/_kmeans.py:870: FutureWarning: The default value of `n_init` will change from 10 to 'auto' in 1.4. Set the value of `n_init` explicitly to suppress the warning\n",
            "  warnings.warn(\n",
            "/usr/local/lib/python3.10/dist-packages/sklearn/cluster/_kmeans.py:870: FutureWarning: The default value of `n_init` will change from 10 to 'auto' in 1.4. Set the value of `n_init` explicitly to suppress the warning\n",
            "  warnings.warn(\n",
            "/usr/local/lib/python3.10/dist-packages/sklearn/cluster/_kmeans.py:870: FutureWarning: The default value of `n_init` will change from 10 to 'auto' in 1.4. Set the value of `n_init` explicitly to suppress the warning\n",
            "  warnings.warn(\n"
          ]
        },
        {
          "output_type": "display_data",
          "data": {
            "text/plain": [
              "<Figure size 640x480 with 1 Axes>"
            ],
            "image/png": "[encoded data removed]"
          },
          "metadata": {}
        }
      ]
    },
    {
      "cell_type": "markdown",
      "source": [
        "Dari Hasil plot, k=3 optimum karena pada k>3 mengalami diminishing return"
      ],
      "metadata": {
        "id": "sEYI8VImqZjb"
      }
    },
    {
      "cell_type": "code",
      "source": [
        "model = KMeans(n_clusters = 3)\n",
        "model.fit(X)\n",
        "labels = model.labels_\n",
        "\n",
        "df2['label'] = labels"
      ],
      "metadata": {
        "colab": {
          "base_uri": "https://localhost:8080/"
        },
        "id": "Oki21gCbqOM5",
        "outputId": "d9854f92-3228-421c-f303-209d4d35e2de"
      },
      "execution_count": null,
      "outputs": [
        {
          "output_type": "stream",
          "name": "stderr",
          "text": [
            "/usr/local/lib/python3.10/dist-packages/sklearn/cluster/_kmeans.py:870: FutureWarning: The default value of `n_init` will change from 10 to 'auto' in 1.4. Set the value of `n_init` explicitly to suppress the warning\n",
            "  warnings.warn(\n",
            "<ipython-input-39-6fe71b08e189>:5: SettingWithCopyWarning: \n",
            "A value is trying to be set on a copy of a slice from a DataFrame.\n",
            "Try using .loc[row_indexer,col_indexer] = value instead\n",
            "\n",
            "See the caveats in the documentation: https://pandas.pydata.org/pandas-docs/stable/user_guide/indexing.html#returning-a-view-versus-a-copy\n",
            "  df2['label'] = labels\n"
          ]
        }
      ]
    },
    {
      "cell_type": "markdown",
      "source": [
        "Melihat jumlah data di setiap cluster"
      ],
      "metadata": {
        "id": "Xzi6QgbWrWk6"
      }
    },
    {
      "cell_type": "code",
      "source": [
        "df2['label'].value_counts()"
      ],
      "metadata": {
        "colab": {
          "base_uri": "https://localhost:8080/"
        },
        "id": "Yu2v490YrPyN",
        "outputId": "1d936d04-d581-4d31-fb83-a8323495cadc"
      },
      "execution_count": null,
      "outputs": [
        {
          "output_type": "execute_result",
          "data": {
            "text/plain": [
              "label\n",
              "0    3029\n",
              "1    1590\n",
              "2    1481\n",
              "Name: count, dtype: int64"
            ]
          },
          "metadata": {},
          "execution_count": 41
        }
      ]
    },
    {
      "cell_type": "code",
      "source": [
        "df2['label'].value_counts().plot.bar()\n",
        "plt.title('Perbandingan jumlah data di cluster')\n",
        "plt.xlabel('Cluster')\n",
        "plt.ylabel('Jumlah Data di Cluster')\n",
        "plt.show()"
      ],
      "metadata": {
        "colab": {
          "base_uri": "https://localhost:8080/",
          "height": 468
        },
        "id": "AT09hs3nvg7j",
        "outputId": "51164beb-b80c-4b2c-dc76-59e987e475f9"
      },
      "execution_count": null,
      "outputs": [
        {
          "output_type": "display_data",
          "data": {
            "text/plain": [
              "<Figure size 640x480 with 1 Axes>"
            ],
            "image/png": "[encoded data removed]"
          },
          "metadata": {}
        }
      ]
    },
    {
      "cell_type": "markdown",
      "source": [
        "Visualize the clusters"
      ],
      "metadata": {
        "id": "vX41NGxzsN7k"
      }
    },
    {
      "cell_type": "code",
      "source": [
        "#Reduce dimensions to 2 using t-SNE\n",
        "tsne = TSNE(n_components=2,)\n",
        "X_tsne = tsne.fit_transform(X)\n",
        "\n",
        "#plot the data and clustering\n",
        "plt.figure(figsize=(10, 7))\n",
        "scatter = plt.scatter(X_tsne[:, 0], X_tsne[:, 1], c=df2['label'], cmap='viridis', alpha=0.7)\n",
        "plt.legend(*scatter.legend_elements(), title=\"Clusters\")\n",
        "plt.xlabel('t-SNE Dimension 1')\n",
        "plt.ylabel('t-SNE Dimension 2')\n",
        "plt.title('Clusters of Documents')\n",
        "plt.show()"
      ],
      "metadata": {
        "colab": {
          "base_uri": "https://localhost:8080/",
          "height": 642
        },
        "id": "J3CyyiYSrVXh",
        "outputId": "220d4abc-7bf8-4ada-b0c6-8569c63941ee"
      },
      "execution_count": null,
      "outputs": [
        {
          "output_type": "display_data",
          "data": {
            "text/plain": [
              "<Figure size 1000x700 with 1 Axes>"
            ],
            "image/png": "[encoded data removed]"
          },
          "metadata": {}
        }
      ]
    },
    {
      "cell_type": "markdown",
      "source": [
        "## b.\n",
        "[10%] Lakukan persona analysis untuk cluster yang anda hasilkan, jelaskan informasi yang anda peroleh mengenai cluster tersebut berdasarkan personanya."
      ],
      "metadata": {
        "id": "Y4s_61h3Yw4h"
      }
    },
    {
      "cell_type": "markdown",
      "source": [
        "See cluster characterizations"
      ],
      "metadata": {
        "id": "UA7joPFDs5iX"
      }
    },
    {
      "cell_type": "code",
      "source": [
        "for cluster in range(3):\n",
        "    print(\"Tweets in Cluster\", cluster, \"\\n\")\n",
        "    print(df2[df2['label'] == cluster]['Tweet'].head(10))"
      ],
      "metadata": {
        "colab": {
          "base_uri": "https://localhost:8080/"
        },
        "id": "DQyy9NvIs5AW",
        "outputId": "93316d2a-67f2-4687-caad-7a8ca4462d7c"
      },
      "execution_count": null,
      "outputs": [
        {
          "output_type": "stream",
          "name": "stdout",
          "text": [
            "Tweets in Cluster 0 \n",
            "\n",
            "0     @myrnn_ @secgron @bankbsi_id sistem sama orang...\n",
            "1     @setyodiwantoro @ZakyFarid @RochmatPurwanto @b...\n",
            "2     @Kebosananan @detikcom iya nasabah bank konven...\n",
            "7                                Bank jelek @bankbsi_id\n",
            "8     Mau sampe kapan klen error' @bankbsi_id. Tiap ...\n",
            "10    @micahhhh1_ @secgron @bankbsi_id Iya ini kobis...\n",
            "13    @BirEng81 @bankbsi_id @BKFKemenkeu @ojkindones...\n",
            "14    @smgalucky @bankbsi_id Biasa nya ga selama ini...\n",
            "15    @bankbsi_id udah atm abis ilang, mbanking gabi...\n",
            "19    @bankbsi_id min, bsi mobile masih gangguan? Sa...\n",
            "Name: Tweet, dtype: object\n",
            "Tweets in Cluster 1 \n",
            "\n",
            "5     @bankbsi_id normal apaan, semalem mo tarik tun...\n",
            "6     @tarocookiess Wes bener bener dadi kampus obam...\n",
            "9     @LelaMelani10 @paijodirajo @bankbsi_id Lol ini...\n",
            "11          @RioDFM @bankbsi_id 3 hari bang, kocak emng\n",
            "12    @AhmadShiddiqN Bisaa, tapi transfernya antar b...\n",
            "16    @YustiawanIhsan2 @putraesaaa @evylagi @Rochmat...\n",
            "22    @TampahHiburan @0xbabayagaa @bankbsi_id Anjing lu\n",
            "26    @philipdj @RochmatPurwanto @bankbsi_id Iya set...\n",
            "32    @symbian_000 @paijodirajo @bankbsi_id tiap wee...\n",
            "34    @bankbsi_id kapan bisa transaksi di marketplac...\n",
            "Name: Tweet, dtype: object\n",
            "Tweets in Cluster 2 \n",
            "\n",
            "3     @bankbsi_id Gimana sih Min ini kok gak bisa la...\n",
            "4      @ssstef_ @bankbsi_id BCA Sy bisa nih kayaknya, 😅\n",
            "17    @bankbsi_id masih belum bisa pake m-banking ya...\n",
            "18    @ERWINdragneel @nefertarha @secgron @bankbsi_i...\n",
            "20    @bankbsi_id @syarif_acil ah..jangan mengadi-ng...\n",
            "24    @kegblgnunfaedh Ini gimnaa ya...\\n@bankbsi_id ...\n",
            "27    @bankbsi_id @onaonanda Yg pulih mbanking nya? ...\n",
            "35    @muhlisin_sains @RochmatPurwanto @bankbsi_id N...\n",
            "43    @capcayudang @bankbsi_id Aku brusan transfer k...\n",
            "46    Mau transfer ke bank lain dari BSI udh aman bl...\n",
            "Name: Tweet, dtype: object\n"
          ]
        }
      ]
    },
    {
      "cell_type": "code",
      "source": [
        "for cluster in range(3):\n",
        "    cluster_data = df2[df2['label'] == cluster]\n",
        "    all_words = ' '.join(cluster_data['Tweet']).split()\n",
        "    common_words = Counter(all_words).most_common(10)\n",
        "    print(\"Common words in Cluster\", cluster, \":\")\n",
        "    print(common_words)"
      ],
      "metadata": {
        "colab": {
          "base_uri": "https://localhost:8080/"
        },
        "id": "Zy_P53L1tcbH",
        "outputId": "f4adb08e-dcc2-44d2-d499-6853dc51f9b6"
      },
      "execution_count": null,
      "outputs": [
        {
          "output_type": "stream",
          "name": "stdout",
          "text": [
            "Common words in Cluster 0 :\n",
            "[('@bankbsi_id', 2684), ('bisa', 1006), ('di', 724), ('BSI', 646), ('ini', 591), ('bank', 586), ('ke', 561), ('yg', 444), ('ada', 432), ('ga', 373)]\n",
            "Common words in Cluster 1 :\n",
            "[('@bankbsi_id', 1354), ('di', 350), ('bisa', 294), ('BSI', 244), ('ini', 235), ('dan', 226), ('bank', 198), ('yang', 191), ('ada', 189), ('ke', 163)]\n",
            "Common words in Cluster 2 :\n",
            "[('@bankbsi_id', 1371), ('bisa', 571), ('BSI', 261), ('di', 248), ('bank', 242), ('ini', 208), ('bsi', 195), ('ke', 191), ('belum', 190), ('ga', 174)]\n"
          ]
        }
      ]
    },
    {
      "cell_type": "markdown",
      "source": [
        "# Persona analysis of clusters   \n",
        "### Cluster 0 :    \n",
        "Kata kunci: @bankbsi_id, bisa, di, BSI, bank, ke, yg, ada, ga\n",
        "\n",
        "Topik cluster: Keluhan mengenai layanan yang tidak tersedia di Bank\n",
        "\n",
        "Cluster ini memiliki karakteristik tweet mengenai pertanyaan atau keluhan mengenai layanan yang tidak tersedia di Bank\n",
        "### Cluster 1 :    \n",
        "Kata kunci: @bankbsi_id, di, bisa, BSI, ini, dan, bank, yang, ada, ke\n",
        "\n",
        "Topik cluster: Keluhan mengenai layanan yang down di Bank\n",
        "\n",
        "Cluster ini memiliki karakteristik tweet mengenai keluhan atau ketidakpuasan pelanggan mengenai jasa pelayanan di Bank\n",
        "\n",
        "### Cluster 2 :    \n",
        "Kata kunci: @bankbsi_id, bisa, BSI, di, bank, ini, bsi, ke, belum, ga\n",
        "\n",
        "Topik cluster: Pertanyaan mengenai kesediaan transfer Bank\n",
        "\n",
        "Cluster ini memiliki karakteristik tweet mengenai pertanyaan mengenai kesediaan pelayanan transfer di bank"
      ],
      "metadata": {
        "id": "iIhDjoYLt9tB"
      }
    },
    {
      "cell_type": "markdown",
      "source": [
        "## c.\n",
        "[15%] Anda tertarik untuk membandingkan hasil clustering dengan metode lain yaitu topic extraction, sehingga anda perlu melakukan pemodelan topic extraction. Jelaskan metode topic extraction yang anda lakukan"
      ],
      "metadata": {
        "id": "ZQEsws5pY4JN"
      }
    },
    {
      "cell_type": "markdown",
      "source": [
        "Prepare X for LDA"
      ],
      "metadata": {
        "id": "pA54ix6v3-wi"
      }
    },
    {
      "cell_type": "code",
      "source": [
        "vectorizer = CountVectorizer(tokenizer=lambda x: x, preprocessor=lambda x: x)\n",
        "X_new = vectorizer.fit_transform(df2['clean'])"
      ],
      "metadata": {
        "colab": {
          "base_uri": "https://localhost:8080/"
        },
        "id": "7Ts-kIOP3lyF",
        "outputId": "a02adb2d-47c9-4bc3-de96-8003d8a1b1be"
      },
      "execution_count": null,
      "outputs": [
        {
          "output_type": "stream",
          "name": "stderr",
          "text": [
            "/usr/local/lib/python3.10/dist-packages/sklearn/feature_extraction/text.py:528: UserWarning: The parameter 'token_pattern' will not be used since 'tokenizer' is not None'\n",
            "  warnings.warn(\n"
          ]
        }
      ]
    },
    {
      "cell_type": "code",
      "source": [
        "# Topic extraction using LDA (Latent Dirichlet Allocation)\n",
        "lda = LatentDirichletAllocation(n_components=3, random_state=0)\n",
        "lda.fit(X_new)\n",
        "\n",
        "def display_topics(model, feature_names, n_top_words):\n",
        "    for topic_idx, topic in enumerate(model.components_):\n",
        "        print(f\"Topic #{topic_idx + 1}:\")\n",
        "        print(\" \".join([feature_names[i] for i in topic.argsort()[:-n_top_words - 1:-1]]))\n",
        "        print(\"\\n\")\n",
        "\n",
        "# We only take the first 15 words of a tweet\n",
        "n_top_words = 15\n",
        "feature_names = vectorizer.get_feature_names_out()\n",
        "display_topics(lda, feature_names, n_top_words)"
      ],
      "metadata": {
        "colab": {
          "base_uri": "https://localhost:8080/"
        },
        "id": "7J1PdMEy08_b",
        "outputId": "a5ff2cdb-59d4-4d3b-9e06-d0313d036265"
      },
      "execution_count": null,
      "outputs": [
        {
          "output_type": "stream",
          "name": "stdout",
          "text": [
            "Topic #1:\n",
            "bankbsiid ga bsi saldo masuk nya transfer bank gimana ya yg secgron min gak rekening\n",
            "\n",
            "\n",
            "Topic #2:\n",
            "bankbsiid bsi ya udah bank aja atm min mobile kak gak yg ka coba cek\n",
            "\n",
            "\n",
            "Topic #3:\n",
            "bsi bank bankbsiid syariah nasabah yg data indonesia rochmatpurwanto nya lockbit kena ransomware dm sistem\n",
            "\n",
            "\n"
          ]
        }
      ]
    },
    {
      "cell_type": "markdown",
      "source": [
        "##  d.\n",
        "[10%] Lakukan persona analysis kembali untuk topik yang anda peroleh, bandingkan apa yang anda peroleh dari pendekatan clustering dan topic extraction. Paparkan hal-hal menarik yang berhasil anda ekstrak.\n"
      ],
      "metadata": {
        "id": "0aKGV-nvY9uG"
      }
    },
    {
      "cell_type": "markdown",
      "source": [
        "Topic 1: Mengenai kendala layanan bank, seperti kesulitan transfer\n",
        "\n",
        "Topic 2: Mengenai keluhan atau ketidakpuasan pelanggan\n",
        "\n",
        "Topic 3: Mengenai ketidaksediaan pelayanan"
      ],
      "metadata": {
        "id": "NH-W530l4R9m"
      }
    },
    {
      "cell_type": "markdown",
      "source": [
        "Secara keseluruhan, topic yang dibuat pada LDA, memiliki kemiripan dengan cluster yang dibuat. Misalnya cluster 0 dan topik 1 yang sama-sama tentang kendala di bank serta cluster 1 dan topik 2 mengenai keluhan atas ketidakpuasan pelanggannya. Karena itu, clustering memiliki kemiripan yang cukup tinggi dengan topic extraction, namun clustering lebih mudah untuk memvisualisasi data dan melihat kemiripannya melalui koordinat euc"
      ],
      "metadata": {
        "id": "dqce1ELX45d1"
      }
    }
  ]
}